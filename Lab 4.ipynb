{
 "cells": [
  {
   "cell_type": "markdown",
   "metadata": {},
   "source": [
    "## Lab 4"
   ]
  },
  {
   "cell_type": "markdown",
   "metadata": {},
   "source": [
    "## imports libs and connnect to databases"
   ]
  },
  {
   "cell_type": "code",
   "execution_count": 17,
   "metadata": {},
   "outputs": [],
   "source": [
    "import pandas\n",
    "import configparser\n",
    "import psycopg2"
   ]
  },
  {
   "cell_type": "code",
   "execution_count": 18,
   "metadata": {},
   "outputs": [],
   "source": [
    "config = configparser.ConfigParser()\n",
    "config.read('config.ini')\n",
    "\n",
    "host = config['myaws']['host']\n",
    "db=config['myaws']['db']\n",
    "user=config['myaws']['user']\n",
    "pwd=config['myaws']['pwd']"
   ]
  },
  {
   "cell_type": "code",
   "execution_count": 19,
   "metadata": {},
   "outputs": [],
   "source": [
    "conn = psycopg2.connect(\n",
    "                        host = host,\n",
    "                        user = user,\n",
    "                        password = pwd,\n",
    "                        dbname=db\n",
    "                        )"
   ]
  },
  {
   "cell_type": "code",
   "execution_count": 20,
   "metadata": {},
   "outputs": [],
   "source": [
    "cur=conn.cursor()"
   ]
  },
  {
   "cell_type": "markdown",
   "metadata": {},
   "source": [
    "## q1"
   ]
  },
  {
   "cell_type": "code",
   "execution_count": 28,
   "metadata": {},
   "outputs": [],
   "source": [
    "sql_q1 = \"\"\"\n",
    "            select * from gp29.student\n",
    "            \"\"\""
   ]
  },
  {
   "cell_type": "code",
   "execution_count": 29,
   "metadata": {},
   "outputs": [
    {
     "data": {
      "text/html": [
       "<div>\n",
       "<style scoped>\n",
       "    .dataframe tbody tr th:only-of-type {\n",
       "        vertical-align: middle;\n",
       "    }\n",
       "\n",
       "    .dataframe tbody tr th {\n",
       "        vertical-align: top;\n",
       "    }\n",
       "\n",
       "    .dataframe thead th {\n",
       "        text-align: right;\n",
       "    }\n",
       "</style>\n",
       "<table border=\"1\" class=\"dataframe\">\n",
       "  <thead>\n",
       "    <tr style=\"text-align: right;\">\n",
       "      <th></th>\n",
       "      <th>s_email</th>\n",
       "      <th>s_name</th>\n",
       "      <th>major</th>\n",
       "    </tr>\n",
       "  </thead>\n",
       "  <tbody>\n",
       "    <tr>\n",
       "      <th>0</th>\n",
       "      <td>s1@jmu.edu</td>\n",
       "      <td>s1</td>\n",
       "      <td>IA</td>\n",
       "    </tr>\n",
       "    <tr>\n",
       "      <th>1</th>\n",
       "      <td>s5@jmu.edu</td>\n",
       "      <td>s5</td>\n",
       "      <td>GS</td>\n",
       "    </tr>\n",
       "  </tbody>\n",
       "</table>\n",
       "</div>"
      ],
      "text/plain": [
       "      s_email s_name major\n",
       "0  s1@jmu.edu     s1    IA\n",
       "1  s5@jmu.edu     s5    GS"
      ]
     },
     "execution_count": 29,
     "metadata": {},
     "output_type": "execute_result"
    }
   ],
   "source": [
    "df = pandas.read_sql_query(sql_q1,conn)\n",
    "df[:]"
   ]
  },
  {
   "cell_type": "markdown",
   "metadata": {},
   "source": [
    "## q2"
   ]
  },
  {
   "cell_type": "code",
   "execution_count": 38,
   "metadata": {},
   "outputs": [],
   "source": [
    "sql_q2 = \"\"\"\n",
    "        select gp29.professor.p_name,\n",
    "        gp29.course.c_name\n",
    "        from gp29.professor\n",
    "        inner join gp29.course\n",
    "        on gp29.professor.p_email = gp29.course.p_email\n",
    "            \n",
    "        \"\"\""
   ]
  },
  {
   "cell_type": "code",
   "execution_count": 39,
   "metadata": {},
   "outputs": [
    {
     "data": {
      "text/html": [
       "<div>\n",
       "<style scoped>\n",
       "    .dataframe tbody tr th:only-of-type {\n",
       "        vertical-align: middle;\n",
       "    }\n",
       "\n",
       "    .dataframe tbody tr th {\n",
       "        vertical-align: top;\n",
       "    }\n",
       "\n",
       "    .dataframe thead th {\n",
       "        text-align: right;\n",
       "    }\n",
       "</style>\n",
       "<table border=\"1\" class=\"dataframe\">\n",
       "  <thead>\n",
       "    <tr style=\"text-align: right;\">\n",
       "      <th></th>\n",
       "      <th>p_name</th>\n",
       "      <th>c_name</th>\n",
       "    </tr>\n",
       "  </thead>\n",
       "  <tbody>\n",
       "    <tr>\n",
       "      <th>0</th>\n",
       "      <td>Kathleen Moore</td>\n",
       "      <td>technology applied</td>\n",
       "    </tr>\n",
       "    <tr>\n",
       "      <th>1</th>\n",
       "      <td>Ron Raab</td>\n",
       "      <td>awareness of wmd</td>\n",
       "    </tr>\n",
       "    <tr>\n",
       "      <th>2</th>\n",
       "      <td>Noel Hendrickson</td>\n",
       "      <td>counterfactual</td>\n",
       "    </tr>\n",
       "    <tr>\n",
       "      <th>3</th>\n",
       "      <td>new_p</td>\n",
       "      <td>new_c_name</td>\n",
       "    </tr>\n",
       "    <tr>\n",
       "      <th>4</th>\n",
       "      <td>new_p</td>\n",
       "      <td>data mining</td>\n",
       "    </tr>\n",
       "  </tbody>\n",
       "</table>\n",
       "</div>"
      ],
      "text/plain": [
       "             p_name              c_name\n",
       "0    Kathleen Moore  technology applied\n",
       "1          Ron Raab    awareness of wmd\n",
       "2  Noel Hendrickson     counterfactual \n",
       "3             new_p          new_c_name\n",
       "4             new_p        data mining "
      ]
     },
     "execution_count": 39,
     "metadata": {},
     "output_type": "execute_result"
    }
   ],
   "source": [
    "df = pandas.read_sql_query(sql_q2,conn)\n",
    "df[:]"
   ]
  },
  {
   "cell_type": "markdown",
   "metadata": {},
   "source": [
    "## q3"
   ]
  },
  {
   "cell_type": "code",
   "execution_count": 40,
   "metadata": {},
   "outputs": [],
   "source": [
    "sql_q3 = \"\"\"\n",
    "        select c_number,\n",
    "        count(c_number) as enrolled\n",
    "        from gp29.enroll_list\n",
    "        group by c_number\n",
    "        order by enrolled desc\n",
    "        \"\"\""
   ]
  },
  {
   "cell_type": "code",
   "execution_count": 42,
   "metadata": {},
   "outputs": [
    {
     "data": {
      "text/plain": [
       "<matplotlib.axes._subplots.AxesSubplot at 0x7f5d67fc9da0>"
      ]
     },
     "execution_count": 42,
     "metadata": {},
     "output_type": "execute_result"
    },
    {
     "data": {
      "image/png": "[encoded data removed]",
      "text/plain": [
       "<Figure size 432x288 with 1 Axes>"
      ]
     },
     "metadata": {
      "needs_background": "light"
     },
     "output_type": "display_data"
    }
   ],
   "source": [
    "df = pandas.read_sql_query(sql_q3,conn)\n",
    "df.plot.bar(y='enrolled', x='c_number')"
   ]
  },
  {
   "cell_type": "markdown",
   "metadata": {},
   "source": [
    "## q4"
   ]
  },
  {
   "cell_type": "code",
   "execution_count": 45,
   "metadata": {},
   "outputs": [],
   "source": [
    "sql_q4 = \"\"\"\n",
    "        select gp29.professor.p_name,\n",
    "        count(gp29.course.c_name) as teaching_number\n",
    "        from gp29.professor \n",
    "        inner join gp29.course\n",
    "        on gp29.professor.p_email = gp29.course.p_email\n",
    "        group by professor.p_name\n",
    "        order by teaching_number desc\n",
    "        \"\"\""
   ]
  },
  {
   "cell_type": "code",
   "execution_count": 46,
   "metadata": {},
   "outputs": [
    {
     "data": {
      "text/plain": [
       "<matplotlib.axes._subplots.AxesSubplot at 0x7f5d6f00b240>"
      ]
     },
     "execution_count": 46,
     "metadata": {},
     "output_type": "execute_result"
    },
    {
     "data": {
      "image/png": "[encoded data removed]",
      "text/plain": [
       "<Figure size 432x288 with 1 Axes>"
      ]
     },
     "metadata": {
      "needs_background": "light"
     },
     "output_type": "display_data"
    }
   ],
   "source": [
    "df = pandas.read_sql_query(sql_q4,conn)\n",
    "df.plot.bar(y='teaching_number', x='p_name')"
   ]
  },
  {
   "cell_type": "markdown",
   "metadata": {},
   "source": [
    "## q5"
   ]
  },
  {
   "cell_type": "code",
   "execution_count": 54,
   "metadata": {},
   "outputs": [],
   "source": [
    "sql_q5_professor = \"\"\"\n",
    "                    insert into gp29.professor(p_email,p_name,office)\n",
    "                    values('{}','{}','{}')\n",
    "                    \"\"\".format('new_p@jmu.edu','new_p','new_office')"
   ]
  },
  {
   "cell_type": "code",
   "execution_count": 55,
   "metadata": {},
   "outputs": [
    {
     "ename": "InternalError",
     "evalue": "current transaction is aborted, commands ignored until end of transaction block\n",
     "output_type": "error",
     "traceback": [
      "\u001b[0;31m---------------------------------------------------------------------------\u001b[0m",
      "\u001b[0;31mInternalError\u001b[0m                             Traceback (most recent call last)",
      "\u001b[0;32m<ipython-input-55-43f48278eb87>\u001b[0m in \u001b[0;36m<module>\u001b[0;34m\u001b[0m\n\u001b[0;32m----> 1\u001b[0;31m \u001b[0mcur\u001b[0m\u001b[0;34m.\u001b[0m\u001b[0mexecute\u001b[0m\u001b[0;34m(\u001b[0m\u001b[0msql_q5_professor\u001b[0m\u001b[0;34m)\u001b[0m\u001b[0;34m\u001b[0m\u001b[0;34m\u001b[0m\u001b[0m\n\u001b[0m",
      "\u001b[0;31mInternalError\u001b[0m: current transaction is aborted, commands ignored until end of transaction block\n"
     ]
    }
   ],
   "source": [
    "cur.execute(sql_q5_professor)"
   ]
  },
  {
   "cell_type": "code",
   "execution_count": 56,
   "metadata": {},
   "outputs": [],
   "source": [
    "conn.commit()"
   ]
  },
  {
   "cell_type": "code",
   "execution_count": 57,
   "metadata": {
    "scrolled": true
   },
   "outputs": [
    {
     "data": {
      "text/html": [
       "<div>\n",
       "<style scoped>\n",
       "    .dataframe tbody tr th:only-of-type {\n",
       "        vertical-align: middle;\n",
       "    }\n",
       "\n",
       "    .dataframe tbody tr th {\n",
       "        vertical-align: top;\n",
       "    }\n",
       "\n",
       "    .dataframe thead th {\n",
       "        text-align: right;\n",
       "    }\n",
       "</style>\n",
       "<table border=\"1\" class=\"dataframe\">\n",
       "  <thead>\n",
       "    <tr style=\"text-align: right;\">\n",
       "      <th></th>\n",
       "      <th>p_email</th>\n",
       "      <th>p_name</th>\n",
       "      <th>office</th>\n",
       "    </tr>\n",
       "  </thead>\n",
       "  <tbody>\n",
       "    <tr>\n",
       "      <th>0</th>\n",
       "      <td>hendrinx@jmu.edu</td>\n",
       "      <td>Noel Hendrickson</td>\n",
       "      <td>n/a</td>\n",
       "    </tr>\n",
       "    <tr>\n",
       "      <th>1</th>\n",
       "      <td>moore8ka@jmu.edu</td>\n",
       "      <td>Kathleen Moore</td>\n",
       "      <td>ISAT116</td>\n",
       "    </tr>\n",
       "    <tr>\n",
       "      <th>2</th>\n",
       "      <td>raabrw@jmu.edu</td>\n",
       "      <td>Ron Raab</td>\n",
       "      <td>ISAT156</td>\n",
       "    </tr>\n",
       "    <tr>\n",
       "      <th>3</th>\n",
       "      <td>nenw_p@jmu.edu</td>\n",
       "      <td>new_p</td>\n",
       "      <td>new_office</td>\n",
       "    </tr>\n",
       "    <tr>\n",
       "      <th>4</th>\n",
       "      <td>new_p@jmu.edu</td>\n",
       "      <td>new_p</td>\n",
       "      <td>new_office</td>\n",
       "    </tr>\n",
       "  </tbody>\n",
       "</table>\n",
       "</div>"
      ],
      "text/plain": [
       "            p_email            p_name      office\n",
       "0  hendrinx@jmu.edu  Noel Hendrickson         n/a\n",
       "1  moore8ka@jmu.edu    Kathleen Moore     ISAT116\n",
       "2    raabrw@jmu.edu          Ron Raab     ISAT156\n",
       "3    nenw_p@jmu.edu             new_p  new_office\n",
       "4     new_p@jmu.edu             new_p  new_office"
      ]
     },
     "execution_count": 57,
     "metadata": {},
     "output_type": "execute_result"
    }
   ],
   "source": [
    "df=pandas.read_sql_query('select * from gp29.professor',conn)\n",
    "df[:]"
   ]
  },
  {
   "cell_type": "code",
   "execution_count": 67,
   "metadata": {},
   "outputs": [],
   "source": [
    "sql_q5_course = \"\"\"\n",
    "                    insert into gp29.course(c_number,c_name,p_email)\n",
    "                    values('{}','{}','{}')\n",
    "                    \"\"\".format('gs_new','new_c_name','online','new_p@jmu.edu')"
   ]
  },
  {
   "cell_type": "code",
   "execution_count": 68,
   "metadata": {},
   "outputs": [
    {
     "ename": "IntegrityError",
     "evalue": "insert or update on table \"course\" violates foreign key constraint \"course_p_email_fkey\"\nDETAIL:  Key (p_email)=(online) is not present in table \"professor\".\n",
     "output_type": "error",
     "traceback": [
      "\u001b[0;31m---------------------------------------------------------------------------\u001b[0m",
      "\u001b[0;31mIntegrityError\u001b[0m                            Traceback (most recent call last)",
      "\u001b[0;32m<ipython-input-68-902ff13ea826>\u001b[0m in \u001b[0;36m<module>\u001b[0;34m\u001b[0m\n\u001b[0;32m----> 1\u001b[0;31m \u001b[0mcur\u001b[0m\u001b[0;34m.\u001b[0m\u001b[0mexecute\u001b[0m\u001b[0;34m(\u001b[0m\u001b[0msql_q5_course\u001b[0m\u001b[0;34m)\u001b[0m\u001b[0;34m\u001b[0m\u001b[0;34m\u001b[0m\u001b[0m\n\u001b[0m",
      "\u001b[0;31mIntegrityError\u001b[0m: insert or update on table \"course\" violates foreign key constraint \"course_p_email_fkey\"\nDETAIL:  Key (p_email)=(online) is not present in table \"professor\".\n"
     ]
    }
   ],
   "source": [
    "cur.execute(sql_q5_course)"
   ]
  },
  {
   "cell_type": "code",
   "execution_count": 69,
   "metadata": {},
   "outputs": [],
   "source": [
    "cur.execute('ROLLBACK')"
   ]
  },
  {
   "cell_type": "code",
   "execution_count": 70,
   "metadata": {},
   "outputs": [],
   "source": [
    "conn.commit()"
   ]
  },
  {
   "cell_type": "code",
   "execution_count": 63,
   "metadata": {},
   "outputs": [
    {
     "data": {
      "text/html": [
       "<div>\n",
       "<style scoped>\n",
       "    .dataframe tbody tr th:only-of-type {\n",
       "        vertical-align: middle;\n",
       "    }\n",
       "\n",
       "    .dataframe tbody tr th {\n",
       "        vertical-align: top;\n",
       "    }\n",
       "\n",
       "    .dataframe thead th {\n",
       "        text-align: right;\n",
       "    }\n",
       "</style>\n",
       "<table border=\"1\" class=\"dataframe\">\n",
       "  <thead>\n",
       "    <tr style=\"text-align: right;\">\n",
       "      <th></th>\n",
       "      <th>c_number</th>\n",
       "      <th>c_name</th>\n",
       "      <th>r_number</th>\n",
       "      <th>p_email</th>\n",
       "    </tr>\n",
       "  </thead>\n",
       "  <tbody>\n",
       "    <tr>\n",
       "      <th>0</th>\n",
       "      <td>IA240</td>\n",
       "      <td>technology applied</td>\n",
       "      <td>online</td>\n",
       "      <td>moore8ka@jmu.edu</td>\n",
       "    </tr>\n",
       "    <tr>\n",
       "      <th>1</th>\n",
       "      <td>ISAT459</td>\n",
       "      <td>awareness of wmd</td>\n",
       "      <td>online</td>\n",
       "      <td>raabrw@jmu.edu</td>\n",
       "    </tr>\n",
       "    <tr>\n",
       "      <th>2</th>\n",
       "      <td>IA313</td>\n",
       "      <td>counterfactual</td>\n",
       "      <td>online</td>\n",
       "      <td>hendrinx@jmu.edu</td>\n",
       "    </tr>\n",
       "    <tr>\n",
       "      <th>3</th>\n",
       "      <td>ia_new</td>\n",
       "      <td>new_c_name</td>\n",
       "      <td>online</td>\n",
       "      <td>new_p@jmu.edu</td>\n",
       "    </tr>\n",
       "    <tr>\n",
       "      <th>4</th>\n",
       "      <td>IA340</td>\n",
       "      <td>data mining</td>\n",
       "      <td>online</td>\n",
       "      <td>new_p@jmu.edu</td>\n",
       "    </tr>\n",
       "  </tbody>\n",
       "</table>\n",
       "</div>"
      ],
      "text/plain": [
       "  c_number              c_name r_number           p_email\n",
       "0    IA240  technology applied   online  moore8ka@jmu.edu\n",
       "1  ISAT459    awareness of wmd   online    raabrw@jmu.edu\n",
       "2    IA313     counterfactual    online  hendrinx@jmu.edu\n",
       "3   ia_new          new_c_name   online     new_p@jmu.edu\n",
       "4    IA340        data mining    online     new_p@jmu.edu"
      ]
     },
     "execution_count": 63,
     "metadata": {},
     "output_type": "execute_result"
    }
   ],
   "source": [
    "df=pandas.read_sql_query('select * from gp29.course',conn)\n",
    "df[:]"
   ]
  },
  {
   "cell_type": "markdown",
   "metadata": {},
   "source": [
    "## q6"
   ]
  },
  {
   "cell_type": "code",
   "execution_count": 64,
   "metadata": {},
   "outputs": [],
   "source": [
    "sql_q6_course = \"\"\"\n",
    "                update gp29.course\n",
    "                set p_email = '{}'\n",
    "                where p_email = '{}'\n",
    "                \"\"\".format('new_p@jmu.edu','hendrinx@jmu.edu')"
   ]
  },
  {
   "cell_type": "code",
   "execution_count": 71,
   "metadata": {},
   "outputs": [],
   "source": [
    "cur.execute(sql_q6_course)"
   ]
  },
  {
   "cell_type": "code",
   "execution_count": 72,
   "metadata": {},
   "outputs": [
    {
     "data": {
      "text/html": [
       "<div>\n",
       "<style scoped>\n",
       "    .dataframe tbody tr th:only-of-type {\n",
       "        vertical-align: middle;\n",
       "    }\n",
       "\n",
       "    .dataframe tbody tr th {\n",
       "        vertical-align: top;\n",
       "    }\n",
       "\n",
       "    .dataframe thead th {\n",
       "        text-align: right;\n",
       "    }\n",
       "</style>\n",
       "<table border=\"1\" class=\"dataframe\">\n",
       "  <thead>\n",
       "    <tr style=\"text-align: right;\">\n",
       "      <th></th>\n",
       "      <th>c_number</th>\n",
       "      <th>c_name</th>\n",
       "      <th>r_number</th>\n",
       "      <th>p_email</th>\n",
       "    </tr>\n",
       "  </thead>\n",
       "  <tbody>\n",
       "    <tr>\n",
       "      <th>0</th>\n",
       "      <td>IA240</td>\n",
       "      <td>technology applied</td>\n",
       "      <td>online</td>\n",
       "      <td>moore8ka@jmu.edu</td>\n",
       "    </tr>\n",
       "    <tr>\n",
       "      <th>1</th>\n",
       "      <td>ISAT459</td>\n",
       "      <td>awareness of wmd</td>\n",
       "      <td>online</td>\n",
       "      <td>raabrw@jmu.edu</td>\n",
       "    </tr>\n",
       "    <tr>\n",
       "      <th>2</th>\n",
       "      <td>ia_new</td>\n",
       "      <td>new_c_name</td>\n",
       "      <td>online</td>\n",
       "      <td>new_p@jmu.edu</td>\n",
       "    </tr>\n",
       "    <tr>\n",
       "      <th>3</th>\n",
       "      <td>IA340</td>\n",
       "      <td>data mining</td>\n",
       "      <td>online</td>\n",
       "      <td>new_p@jmu.edu</td>\n",
       "    </tr>\n",
       "    <tr>\n",
       "      <th>4</th>\n",
       "      <td>IA313</td>\n",
       "      <td>counterfactual</td>\n",
       "      <td>online</td>\n",
       "      <td>new_p@jmu.edu</td>\n",
       "    </tr>\n",
       "  </tbody>\n",
       "</table>\n",
       "</div>"
      ],
      "text/plain": [
       "  c_number              c_name r_number           p_email\n",
       "0    IA240  technology applied   online  moore8ka@jmu.edu\n",
       "1  ISAT459    awareness of wmd   online    raabrw@jmu.edu\n",
       "2   ia_new          new_c_name   online     new_p@jmu.edu\n",
       "3    IA340        data mining    online     new_p@jmu.edu\n",
       "4    IA313     counterfactual    online     new_p@jmu.edu"
      ]
     },
     "execution_count": 72,
     "metadata": {},
     "output_type": "execute_result"
    }
   ],
   "source": [
    "df=pandas.read_sql_query('select * from gp29.course',conn)\n",
    "df[:] "
   ]
  },
  {
   "cell_type": "code",
   "execution_count": 73,
   "metadata": {},
   "outputs": [],
   "source": [
    "sql_q6_professor = \"\"\"\n",
    "                delete from gp29.professor \n",
    "                where p_email = '{}'\n",
    "                \"\"\".format('hendrinx@jmu.edu')"
   ]
  },
  {
   "cell_type": "code",
   "execution_count": 74,
   "metadata": {},
   "outputs": [],
   "source": [
    "cur.execute(sql_q6_professor)"
   ]
  },
  {
   "cell_type": "code",
   "execution_count": 75,
   "metadata": {},
   "outputs": [],
   "source": [
    "conn.commit()"
   ]
  },
  {
   "cell_type": "code",
   "execution_count": 76,
   "metadata": {},
   "outputs": [
    {
     "data": {
      "text/html": [
       "<div>\n",
       "<style scoped>\n",
       "    .dataframe tbody tr th:only-of-type {\n",
       "        vertical-align: middle;\n",
       "    }\n",
       "\n",
       "    .dataframe tbody tr th {\n",
       "        vertical-align: top;\n",
       "    }\n",
       "\n",
       "    .dataframe thead th {\n",
       "        text-align: right;\n",
       "    }\n",
       "</style>\n",
       "<table border=\"1\" class=\"dataframe\">\n",
       "  <thead>\n",
       "    <tr style=\"text-align: right;\">\n",
       "      <th></th>\n",
       "      <th>p_email</th>\n",
       "      <th>p_name</th>\n",
       "      <th>office</th>\n",
       "    </tr>\n",
       "  </thead>\n",
       "  <tbody>\n",
       "    <tr>\n",
       "      <th>0</th>\n",
       "      <td>moore8ka@jmu.edu</td>\n",
       "      <td>Kathleen Moore</td>\n",
       "      <td>ISAT116</td>\n",
       "    </tr>\n",
       "    <tr>\n",
       "      <th>1</th>\n",
       "      <td>raabrw@jmu.edu</td>\n",
       "      <td>Ron Raab</td>\n",
       "      <td>ISAT156</td>\n",
       "    </tr>\n",
       "    <tr>\n",
       "      <th>2</th>\n",
       "      <td>nenw_p@jmu.edu</td>\n",
       "      <td>new_p</td>\n",
       "      <td>new_office</td>\n",
       "    </tr>\n",
       "    <tr>\n",
       "      <th>3</th>\n",
       "      <td>new_p@jmu.edu</td>\n",
       "      <td>new_p</td>\n",
       "      <td>new_office</td>\n",
       "    </tr>\n",
       "  </tbody>\n",
       "</table>\n",
       "</div>"
      ],
      "text/plain": [
       "            p_email          p_name      office\n",
       "0  moore8ka@jmu.edu  Kathleen Moore     ISAT116\n",
       "1    raabrw@jmu.edu        Ron Raab     ISAT156\n",
       "2    nenw_p@jmu.edu           new_p  new_office\n",
       "3     new_p@jmu.edu           new_p  new_office"
      ]
     },
     "execution_count": 76,
     "metadata": {},
     "output_type": "execute_result"
    }
   ],
   "source": [
    "df=pandas.read_sql_query('select * from gp29.professor',conn)\n",
    "df[:]"
   ]
  },
  {
   "cell_type": "markdown",
   "metadata": {},
   "source": [
    "## close connection"
   ]
  },
  {
   "cell_type": "code",
   "execution_count": 77,
   "metadata": {},
   "outputs": [],
   "source": [
    "cur.close()\n",
    "conn.close()"
   ]
  },
  {
   "cell_type": "code",
   "execution_count": null,
   "metadata": {},
   "outputs": [],
   "source": []
  }
 ],
 "metadata": {
  "kernelspec": {
   "display_name": "conda_python3",
   "language": "python",
   "name": "conda_python3"
  },
  "language_info": {
   "codemirror_mode": {
    "name": "ipython",
    "version": 3
   },
   "file_extension": ".py",
   "mimetype": "text/x-python",
   "name": "python",
   "nbconvert_exporter": "python",
   "pygments_lexer": "ipython3",
   "version": "3.6.10"
  }
 },
 "nbformat": 4,
 "nbformat_minor": 4
}
