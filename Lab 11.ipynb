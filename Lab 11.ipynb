{
 "cells": [
  {
   "cell_type": "markdown",
   "metadata": {},
   "source": [
    "# Collect Tweets into MongoDB"
   ]
  },
  {
   "cell_type": "markdown",
   "metadata": {},
   "source": [
    "## Install Python libraries\n",
    "\n",
    "You may need to restart your Jupyter Notebook instance after installed those libraries."
   ]
  },
  {
   "cell_type": "code",
   "execution_count": 1,
   "metadata": {
    "scrolled": true
   },
   "outputs": [
    {
     "name": "stdout",
     "output_type": "stream",
     "text": [
      "Requirement already satisfied: pymongo in /home/ec2-user/anaconda3/envs/python3/lib/python3.6/site-packages (3.11.1)\n",
      "\u001b[33mWARNING: You are using pip version 20.0.2; however, version 20.2.4 is available.\n",
      "You should consider upgrading via the '/home/ec2-user/anaconda3/envs/python3/bin/python -m pip install --upgrade pip' command.\u001b[0m\n"
     ]
    }
   ],
   "source": [
    "!pip install pymongo"
   ]
  },
  {
   "cell_type": "code",
   "execution_count": 2,
   "metadata": {},
   "outputs": [
    {
     "name": "stdout",
     "output_type": "stream",
     "text": [
      "Requirement already satisfied: pymongo[srv] in /home/ec2-user/anaconda3/envs/python3/lib/python3.6/site-packages (3.11.1)\n",
      "Requirement already satisfied: dnspython<2.0.0,>=1.16.0; extra == \"srv\" in /home/ec2-user/anaconda3/envs/python3/lib/python3.6/site-packages (from pymongo[srv]) (1.16.0)\n",
      "\u001b[33mWARNING: You are using pip version 20.0.2; however, version 20.2.4 is available.\n",
      "You should consider upgrading via the '/home/ec2-user/anaconda3/envs/python3/bin/python -m pip install --upgrade pip' command.\u001b[0m\n"
     ]
    }
   ],
   "source": [
    "!pip install pymongo[srv]"
   ]
  },
  {
   "cell_type": "code",
   "execution_count": 3,
   "metadata": {},
   "outputs": [
    {
     "name": "stdout",
     "output_type": "stream",
     "text": [
      "Requirement already satisfied: dnspython in /home/ec2-user/anaconda3/envs/python3/lib/python3.6/site-packages (1.16.0)\n",
      "\u001b[33mWARNING: You are using pip version 20.0.2; however, version 20.2.4 is available.\n",
      "You should consider upgrading via the '/home/ec2-user/anaconda3/envs/python3/bin/python -m pip install --upgrade pip' command.\u001b[0m\n"
     ]
    }
   ],
   "source": [
    "!pip install dnspython"
   ]
  },
  {
   "cell_type": "code",
   "execution_count": 4,
   "metadata": {
    "scrolled": true
   },
   "outputs": [
    {
     "name": "stdout",
     "output_type": "stream",
     "text": [
      "Requirement already satisfied: tweepy in /home/ec2-user/anaconda3/envs/python3/lib/python3.6/site-packages (3.9.0)\n",
      "Requirement already satisfied: requests[socks]>=2.11.1 in /home/ec2-user/anaconda3/envs/python3/lib/python3.6/site-packages (from tweepy) (2.22.0)\n",
      "Requirement already satisfied: six>=1.10.0 in /home/ec2-user/anaconda3/envs/python3/lib/python3.6/site-packages (from tweepy) (1.14.0)\n",
      "Requirement already satisfied: requests-oauthlib>=0.7.0 in /home/ec2-user/anaconda3/envs/python3/lib/python3.6/site-packages (from tweepy) (1.3.0)\n",
      "Requirement already satisfied: chardet<3.1.0,>=3.0.2 in /home/ec2-user/anaconda3/envs/python3/lib/python3.6/site-packages (from requests[socks]>=2.11.1->tweepy) (3.0.4)\n",
      "Requirement already satisfied: certifi>=2017.4.17 in /home/ec2-user/anaconda3/envs/python3/lib/python3.6/site-packages (from requests[socks]>=2.11.1->tweepy) (2020.6.20)\n",
      "Requirement already satisfied: urllib3!=1.25.0,!=1.25.1,<1.26,>=1.21.1 in /home/ec2-user/anaconda3/envs/python3/lib/python3.6/site-packages (from requests[socks]>=2.11.1->tweepy) (1.25.10)\n",
      "Requirement already satisfied: idna<2.9,>=2.5 in /home/ec2-user/anaconda3/envs/python3/lib/python3.6/site-packages (from requests[socks]>=2.11.1->tweepy) (2.8)\n",
      "Requirement already satisfied: PySocks!=1.5.7,>=1.5.6; extra == \"socks\" in /home/ec2-user/anaconda3/envs/python3/lib/python3.6/site-packages (from requests[socks]>=2.11.1->tweepy) (1.7.1)\n",
      "Requirement already satisfied: oauthlib>=3.0.0 in /home/ec2-user/anaconda3/envs/python3/lib/python3.6/site-packages (from requests-oauthlib>=0.7.0->tweepy) (3.1.0)\n",
      "\u001b[33mWARNING: You are using pip version 20.0.2; however, version 20.2.4 is available.\n",
      "You should consider upgrading via the '/home/ec2-user/anaconda3/envs/python3/bin/python -m pip install --upgrade pip' command.\u001b[0m\n"
     ]
    }
   ],
   "source": [
    "!pip install tweepy"
   ]
  },
  {
   "cell_type": "code",
   "execution_count": 5,
   "metadata": {
    "scrolled": true
   },
   "outputs": [
    {
     "name": "stdout",
     "output_type": "stream",
     "text": [
      "Requirement already satisfied: twitter in /home/ec2-user/anaconda3/envs/python3/lib/python3.6/site-packages (1.18.0)\n",
      "\u001b[33mWARNING: You are using pip version 20.0.2; however, version 20.2.4 is available.\n",
      "You should consider upgrading via the '/home/ec2-user/anaconda3/envs/python3/bin/python -m pip install --upgrade pip' command.\u001b[0m\n"
     ]
    }
   ],
   "source": [
    "!pip install twitter"
   ]
  },
  {
   "cell_type": "markdown",
   "metadata": {},
   "source": [
    "## Import Python libraries"
   ]
  },
  {
   "cell_type": "code",
   "execution_count": 6,
   "metadata": {},
   "outputs": [],
   "source": [
    "import pymongo\n",
    "from pymongo import MongoClient\n",
    "import json\n",
    "import tweepy\n",
    "import twitter\n",
    "from pprint import pprint\n",
    "import configparser\n",
    "import pandas as pd"
   ]
  },
  {
   "cell_type": "markdown",
   "metadata": {},
   "source": [
    "##  Load the Authorization Info"
   ]
  },
  {
   "cell_type": "markdown",
   "metadata": {},
   "source": [
    "Save database connection info and API Keys in a config.ini file and use the configparse to load the authorization info. "
   ]
  },
  {
   "cell_type": "code",
   "execution_count": 7,
   "metadata": {},
   "outputs": [],
   "source": [
    "config = configparser.ConfigParser()\n",
    "config.read('config.ini')\n",
    "\n",
    "CONSUMER_KEY      = config['mytwitter']['api_key']\n",
    "CONSUMER_SECRET   = config['mytwitter']['api_secret']\n",
    "OAUTH_TOKEN       = config['mytwitter']['access_token']\n",
    "OATH_TOKEN_SECRET = config['mytwitter']['access_secret']\n",
    "\n",
    "mongod_connect = config['mymongo']['connection']"
   ]
  },
  {
   "cell_type": "markdown",
   "metadata": {},
   "source": [
    "## Connect to the MongoDB Cluster"
   ]
  },
  {
   "cell_type": "code",
   "execution_count": 8,
   "metadata": {},
   "outputs": [
    {
     "data": {
      "text/plain": [
       "'id_1'"
      ]
     },
     "execution_count": 8,
     "metadata": {},
     "output_type": "execute_result"
    }
   ],
   "source": [
    "client = MongoClient(mongod_connect)\n",
    "db = client.gp29 # use or create a database named demo\n",
    "tweet_collection = db.lab11 #use or create a collection named tweet_collection\n",
    "tweet_collection.create_index([(\"id\", pymongo.ASCENDING)],unique = True) # make sure the collected tweets are unique"
   ]
  },
  {
   "cell_type": "markdown",
   "metadata": {},
   "source": [
    "## Use the Streaming API to Collect Tweets"
   ]
  },
  {
   "cell_type": "markdown",
   "metadata": {},
   "source": [
    "Authorize the Stream API "
   ]
  },
  {
   "cell_type": "code",
   "execution_count": 9,
   "metadata": {},
   "outputs": [],
   "source": [
    "stream_auth = tweepy.OAuthHandler(CONSUMER_KEY, CONSUMER_SECRET)\n",
    "stream_auth.set_access_token(OAUTH_TOKEN, OATH_TOKEN_SECRET)\n",
    "\n",
    "strem_api = tweepy.API(stream_auth)"
   ]
  },
  {
   "cell_type": "markdown",
   "metadata": {},
   "source": [
    "Define the query for the Stream API"
   ]
  },
  {
   "cell_type": "code",
   "execution_count": 5,
   "metadata": {},
   "outputs": [],
   "source": [
    "track = ['election'] # define the keywords, tweets contain election\n",
    "\n",
    "locations = [-78.9326449,38.4150904,-78.8816972,38.4450731] #defin the location, in Harrisonburg, VA"
   ]
  },
  {
   "cell_type": "markdown",
   "metadata": {},
   "source": [
    "The collected tweets will contain 'election' <span style=\"color:red;font-weight:bold\"> OR </span> are located in Harrisonburg, VA"
   ]
  },
  {
   "cell_type": "code",
   "execution_count": null,
   "metadata": {
    "scrolled": true
   },
   "outputs": [],
   "source": [
    "class MyStreamListener(tweepy.StreamListener):\n",
    "    def on_status(self, status):\n",
    "        print (status.id_str)\n",
    "        try:\n",
    "            tweet_collection.insert_one(status._json)\n",
    "        except:\n",
    "            pass\n",
    "  \n",
    "    def on_error(self, status_code):\n",
    "        if status_code == 420:\n",
    "            #returning False in on_data disconnects the stream\n",
    "            return False\n",
    "myStreamListener = MyStreamListener()\n",
    "myStream = tweepy.Stream(auth = strem_api.auth, listener=myStreamListener)\n",
    "myStream.filter(track=track)#  (locations = locations)   #Use either track or locations"
   ]
  },
  {
   "cell_type": "markdown",
   "metadata": {},
   "source": [
    "## Use the REST API to Collect Tweets"
   ]
  },
  {
   "cell_type": "markdown",
   "metadata": {},
   "source": [
    "Authorize the REST API "
   ]
  },
  {
   "cell_type": "code",
   "execution_count": 10,
   "metadata": {},
   "outputs": [],
   "source": [
    "rest_auth = twitter.oauth.OAuth(OAUTH_TOKEN,OATH_TOKEN_SECRET,CONSUMER_KEY,CONSUMER_SECRET)\n",
    "rest_api = twitter.Twitter(auth=rest_auth)"
   ]
  },
  {
   "cell_type": "markdown",
   "metadata": {},
   "source": [
    "Define the query for the REST API"
   ]
  },
  {
   "cell_type": "code",
   "execution_count": 11,
   "metadata": {},
   "outputs": [],
   "source": [
    "count = 100 #number of returned tweets, default and max is 100\n",
    "geocode = \"37.5246403,-77.5633015,150mi\"  # defin the location, in Harrisonburg, VA\n",
    "q = \"covid19\"                               #define the keywords, tweets contain election"
   ]
  },
  {
   "cell_type": "markdown",
   "metadata": {},
   "source": [
    "The collected tweets will contain 'election' <span style=\"color:red;font-weight:bold\"> AND </span> are located in Harrisonburg, VA"
   ]
  },
  {
   "cell_type": "code",
   "execution_count": 12,
   "metadata": {},
   "outputs": [
    {
     "name": "stdout",
     "output_type": "stream",
     "text": [
      "'Thu Nov 19 17:41:45 +0000 2020'\n",
      "'Thu Nov 19 17:41:38 +0000 2020'\n",
      "'Thu Nov 19 17:41:31 +0000 2020'\n",
      "'Thu Nov 19 17:41:23 +0000 2020'\n",
      "'Thu Nov 19 17:41:22 +0000 2020'\n",
      "'Thu Nov 19 17:41:02 +0000 2020'\n",
      "'Thu Nov 19 17:41:01 +0000 2020'\n",
      "'Thu Nov 19 17:41:00 +0000 2020'\n",
      "'Thu Nov 19 17:40:47 +0000 2020'\n",
      "'Thu Nov 19 17:40:41 +0000 2020'\n",
      "'Thu Nov 19 17:40:41 +0000 2020'\n",
      "'Thu Nov 19 17:40:40 +0000 2020'\n",
      "'Thu Nov 19 17:40:35 +0000 2020'\n",
      "'Thu Nov 19 17:40:29 +0000 2020'\n",
      "'Thu Nov 19 17:40:23 +0000 2020'\n",
      "'Thu Nov 19 17:40:16 +0000 2020'\n",
      "'Thu Nov 19 17:40:15 +0000 2020'\n",
      "'Thu Nov 19 17:40:13 +0000 2020'\n",
      "'Thu Nov 19 17:40:07 +0000 2020'\n",
      "'Thu Nov 19 17:40:07 +0000 2020'\n",
      "'Thu Nov 19 17:40:05 +0000 2020'\n",
      "'Thu Nov 19 17:39:51 +0000 2020'\n",
      "'Thu Nov 19 17:39:39 +0000 2020'\n",
      "'Thu Nov 19 17:39:32 +0000 2020'\n",
      "'Thu Nov 19 17:39:31 +0000 2020'\n",
      "'Thu Nov 19 17:39:29 +0000 2020'\n",
      "'Thu Nov 19 17:39:27 +0000 2020'\n",
      "'Thu Nov 19 17:39:26 +0000 2020'\n",
      "'Thu Nov 19 17:39:12 +0000 2020'\n",
      "'Thu Nov 19 17:39:10 +0000 2020'\n",
      "'Thu Nov 19 17:39:10 +0000 2020'\n",
      "'Thu Nov 19 17:39:09 +0000 2020'\n",
      "'Thu Nov 19 17:39:04 +0000 2020'\n",
      "'Thu Nov 19 17:39:04 +0000 2020'\n",
      "'Thu Nov 19 17:39:02 +0000 2020'\n",
      "'Thu Nov 19 17:38:52 +0000 2020'\n",
      "'Thu Nov 19 17:38:51 +0000 2020'\n",
      "'Thu Nov 19 17:38:51 +0000 2020'\n",
      "'Thu Nov 19 17:38:41 +0000 2020'\n",
      "'Thu Nov 19 17:38:40 +0000 2020'\n",
      "'Thu Nov 19 17:38:35 +0000 2020'\n",
      "'Thu Nov 19 17:38:26 +0000 2020'\n",
      "'Thu Nov 19 17:38:19 +0000 2020'\n",
      "'Thu Nov 19 17:38:19 +0000 2020'\n",
      "'Thu Nov 19 17:38:18 +0000 2020'\n",
      "'Thu Nov 19 17:38:18 +0000 2020'\n",
      "'Thu Nov 19 17:38:14 +0000 2020'\n",
      "'Thu Nov 19 17:38:13 +0000 2020'\n",
      "'Thu Nov 19 17:38:09 +0000 2020'\n",
      "'Thu Nov 19 17:38:04 +0000 2020'\n",
      "'Thu Nov 19 17:38:02 +0000 2020'\n",
      "'Thu Nov 19 17:38:01 +0000 2020'\n",
      "'Thu Nov 19 17:37:56 +0000 2020'\n",
      "'Thu Nov 19 17:37:56 +0000 2020'\n",
      "'Thu Nov 19 17:37:53 +0000 2020'\n",
      "'Thu Nov 19 17:37:51 +0000 2020'\n",
      "'Thu Nov 19 17:37:43 +0000 2020'\n",
      "'Thu Nov 19 17:37:39 +0000 2020'\n",
      "'Thu Nov 19 17:37:25 +0000 2020'\n",
      "'Thu Nov 19 17:37:23 +0000 2020'\n",
      "'Thu Nov 19 17:37:18 +0000 2020'\n",
      "'Thu Nov 19 17:37:14 +0000 2020'\n",
      "'Thu Nov 19 17:37:11 +0000 2020'\n",
      "'Thu Nov 19 17:37:09 +0000 2020'\n",
      "'Thu Nov 19 17:37:07 +0000 2020'\n",
      "'Thu Nov 19 17:37:04 +0000 2020'\n",
      "'Thu Nov 19 17:36:59 +0000 2020'\n",
      "'Thu Nov 19 17:36:51 +0000 2020'\n",
      "'Thu Nov 19 17:36:43 +0000 2020'\n",
      "'Thu Nov 19 17:36:31 +0000 2020'\n",
      "'Thu Nov 19 17:36:30 +0000 2020'\n",
      "'Thu Nov 19 17:36:28 +0000 2020'\n",
      "'Thu Nov 19 17:36:17 +0000 2020'\n",
      "'Thu Nov 19 17:36:14 +0000 2020'\n",
      "'Thu Nov 19 17:36:04 +0000 2020'\n",
      "'Thu Nov 19 17:35:55 +0000 2020'\n",
      "'Thu Nov 19 17:35:54 +0000 2020'\n",
      "'Thu Nov 19 17:35:46 +0000 2020'\n",
      "'Thu Nov 19 17:35:46 +0000 2020'\n",
      "'Thu Nov 19 17:35:36 +0000 2020'\n",
      "'Thu Nov 19 17:35:31 +0000 2020'\n",
      "'Thu Nov 19 17:35:30 +0000 2020'\n",
      "'Thu Nov 19 17:35:30 +0000 2020'\n",
      "'Thu Nov 19 17:35:19 +0000 2020'\n",
      "'Thu Nov 19 17:35:19 +0000 2020'\n",
      "'Thu Nov 19 17:35:16 +0000 2020'\n",
      "'Thu Nov 19 17:35:15 +0000 2020'\n",
      "'Thu Nov 19 17:35:15 +0000 2020'\n",
      "'Thu Nov 19 17:35:08 +0000 2020'\n",
      "'Thu Nov 19 17:35:07 +0000 2020'\n",
      "'Thu Nov 19 17:35:01 +0000 2020'\n",
      "'Thu Nov 19 17:35:00 +0000 2020'\n",
      "'Thu Nov 19 17:34:59 +0000 2020'\n",
      "'Thu Nov 19 17:34:57 +0000 2020'\n",
      "'Thu Nov 19 17:34:53 +0000 2020'\n",
      "'Thu Nov 19 17:34:52 +0000 2020'\n",
      "'Thu Nov 19 17:34:46 +0000 2020'\n",
      "'Thu Nov 19 17:34:42 +0000 2020'\n",
      "'Thu Nov 19 17:34:36 +0000 2020'\n",
      "'Thu Nov 19 17:34:35 +0000 2020'\n"
     ]
    }
   ],
   "source": [
    "search_results = rest_api.search.tweets( count=count,q=q, geocode=geocode) #you can use both q and geocode\n",
    "statuses = search_results[\"statuses\"]\n",
    "since_id_new = statuses[-1]['id']\n",
    "for statuse in statuses:\n",
    "    try:\n",
    "        tweet_collection.insert_one(statuse)\n",
    "        pprint(statuse['created_at'])# print the date of the collected tweets\n",
    "    except:\n",
    "        pass"
   ]
  },
  {
   "cell_type": "markdown",
   "metadata": {},
   "source": [
    "Continue fetching early tweets with the same query. \n",
    "<p><span style=\"color:red;font-weight:bold\">YOU WILL REACH YOUR RATE LIMIT VERY FAST</span></p>"
   ]
  },
  {
   "cell_type": "code",
   "execution_count": 13,
   "metadata": {
    "scrolled": false
   },
   "outputs": [
    {
     "name": "stdout",
     "output_type": "stream",
     "text": [
      "'Thu Nov 19 17:34:33 +0000 2020'\n",
      "'Thu Nov 19 17:34:22 +0000 2020'\n",
      "'Thu Nov 19 17:34:20 +0000 2020'\n",
      "'Thu Nov 19 17:34:16 +0000 2020'\n",
      "'Thu Nov 19 17:34:15 +0000 2020'\n",
      "'Thu Nov 19 17:34:11 +0000 2020'\n",
      "'Thu Nov 19 17:34:04 +0000 2020'\n",
      "'Thu Nov 19 17:34:01 +0000 2020'\n",
      "'Thu Nov 19 17:33:51 +0000 2020'\n",
      "'Thu Nov 19 17:33:46 +0000 2020'\n",
      "'Thu Nov 19 17:33:42 +0000 2020'\n",
      "'Thu Nov 19 17:33:41 +0000 2020'\n",
      "'Thu Nov 19 17:33:38 +0000 2020'\n",
      "'Thu Nov 19 17:33:35 +0000 2020'\n",
      "'Thu Nov 19 17:33:27 +0000 2020'\n",
      "'Thu Nov 19 17:33:23 +0000 2020'\n",
      "'Thu Nov 19 17:33:19 +0000 2020'\n",
      "'Thu Nov 19 17:33:06 +0000 2020'\n",
      "'Thu Nov 19 17:33:02 +0000 2020'\n",
      "'Thu Nov 19 17:32:57 +0000 2020'\n",
      "'Thu Nov 19 17:32:56 +0000 2020'\n",
      "'Thu Nov 19 17:32:50 +0000 2020'\n",
      "'Thu Nov 19 17:32:46 +0000 2020'\n",
      "'Thu Nov 19 17:32:46 +0000 2020'\n",
      "'Thu Nov 19 17:32:40 +0000 2020'\n",
      "'Thu Nov 19 17:32:40 +0000 2020'\n",
      "'Thu Nov 19 17:32:38 +0000 2020'\n",
      "'Thu Nov 19 17:32:36 +0000 2020'\n",
      "'Thu Nov 19 17:32:34 +0000 2020'\n",
      "'Thu Nov 19 17:32:30 +0000 2020'\n",
      "'Thu Nov 19 17:32:24 +0000 2020'\n",
      "'Thu Nov 19 17:31:33 +0000 2020'\n",
      "'Thu Nov 19 17:31:18 +0000 2020'\n",
      "'Thu Nov 19 17:31:06 +0000 2020'\n",
      "'Thu Nov 19 17:30:56 +0000 2020'\n",
      "'Thu Nov 19 17:30:53 +0000 2020'\n",
      "'Thu Nov 19 17:30:50 +0000 2020'\n",
      "'Thu Nov 19 17:30:50 +0000 2020'\n",
      "'Thu Nov 19 17:30:49 +0000 2020'\n",
      "'Thu Nov 19 17:30:43 +0000 2020'\n",
      "'Thu Nov 19 17:30:36 +0000 2020'\n",
      "'Thu Nov 19 17:30:33 +0000 2020'\n",
      "'Thu Nov 19 17:30:20 +0000 2020'\n",
      "'Thu Nov 19 17:30:18 +0000 2020'\n",
      "'Thu Nov 19 17:30:14 +0000 2020'\n",
      "'Thu Nov 19 17:30:05 +0000 2020'\n",
      "'Thu Nov 19 17:30:00 +0000 2020'\n",
      "'Thu Nov 19 17:30:00 +0000 2020'\n",
      "'Thu Nov 19 17:30:00 +0000 2020'\n",
      "'Thu Nov 19 17:30:00 +0000 2020'\n",
      "'Thu Nov 19 17:29:57 +0000 2020'\n",
      "'Thu Nov 19 17:29:48 +0000 2020'\n",
      "'Thu Nov 19 17:29:44 +0000 2020'\n",
      "'Thu Nov 19 17:29:42 +0000 2020'\n",
      "'Thu Nov 19 17:29:33 +0000 2020'\n",
      "'Thu Nov 19 17:29:31 +0000 2020'\n",
      "'Thu Nov 19 17:29:23 +0000 2020'\n",
      "'Thu Nov 19 17:29:23 +0000 2020'\n",
      "'Thu Nov 19 17:29:18 +0000 2020'\n",
      "'Thu Nov 19 17:29:15 +0000 2020'\n",
      "'Thu Nov 19 17:29:15 +0000 2020'\n",
      "'Thu Nov 19 17:29:14 +0000 2020'\n",
      "'Thu Nov 19 17:29:13 +0000 2020'\n",
      "'Thu Nov 19 17:29:06 +0000 2020'\n",
      "'Thu Nov 19 17:29:03 +0000 2020'\n",
      "'Thu Nov 19 17:29:00 +0000 2020'\n",
      "'Thu Nov 19 17:29:00 +0000 2020'\n",
      "'Thu Nov 19 17:28:59 +0000 2020'\n",
      "'Thu Nov 19 17:28:57 +0000 2020'\n",
      "'Thu Nov 19 17:28:50 +0000 2020'\n",
      "'Thu Nov 19 17:28:49 +0000 2020'\n",
      "'Thu Nov 19 17:28:45 +0000 2020'\n",
      "'Thu Nov 19 17:28:44 +0000 2020'\n",
      "'Thu Nov 19 17:28:44 +0000 2020'\n",
      "'Thu Nov 19 17:28:41 +0000 2020'\n",
      "'Thu Nov 19 17:28:33 +0000 2020'\n",
      "'Thu Nov 19 17:28:24 +0000 2020'\n",
      "'Thu Nov 19 17:28:04 +0000 2020'\n",
      "'Thu Nov 19 17:27:49 +0000 2020'\n",
      "'Thu Nov 19 17:27:47 +0000 2020'\n",
      "'Thu Nov 19 17:27:43 +0000 2020'\n",
      "'Thu Nov 19 17:27:42 +0000 2020'\n",
      "'Thu Nov 19 17:27:37 +0000 2020'\n",
      "'Thu Nov 19 17:27:32 +0000 2020'\n",
      "'Thu Nov 19 17:27:28 +0000 2020'\n",
      "'Thu Nov 19 17:27:27 +0000 2020'\n",
      "'Thu Nov 19 17:27:18 +0000 2020'\n",
      "'Thu Nov 19 17:27:13 +0000 2020'\n",
      "'Thu Nov 19 17:27:07 +0000 2020'\n",
      "'Thu Nov 19 17:26:58 +0000 2020'\n",
      "'Thu Nov 19 17:26:50 +0000 2020'\n",
      "'Thu Nov 19 17:26:49 +0000 2020'\n",
      "'Thu Nov 19 17:26:49 +0000 2020'\n",
      "'Thu Nov 19 17:26:30 +0000 2020'\n",
      "'Thu Nov 19 17:26:28 +0000 2020'\n",
      "'Thu Nov 19 17:26:10 +0000 2020'\n",
      "'Thu Nov 19 17:25:56 +0000 2020'\n",
      "'Thu Nov 19 17:25:55 +0000 2020'\n",
      "'Thu Nov 19 17:25:53 +0000 2020'\n",
      "'Thu Nov 19 17:25:43 +0000 2020'\n",
      "'Thu Nov 19 17:25:40 +0000 2020'\n",
      "'Thu Nov 19 17:25:39 +0000 2020'\n",
      "'Thu Nov 19 17:25:38 +0000 2020'\n",
      "'Thu Nov 19 17:25:35 +0000 2020'\n",
      "'Thu Nov 19 17:25:30 +0000 2020'\n",
      "'Thu Nov 19 17:25:27 +0000 2020'\n",
      "'Thu Nov 19 17:25:21 +0000 2020'\n",
      "'Thu Nov 19 17:25:16 +0000 2020'\n",
      "'Thu Nov 19 17:25:08 +0000 2020'\n",
      "'Thu Nov 19 17:25:04 +0000 2020'\n",
      "'Thu Nov 19 17:25:03 +0000 2020'\n",
      "'Thu Nov 19 17:25:02 +0000 2020'\n",
      "'Thu Nov 19 17:25:00 +0000 2020'\n",
      "'Thu Nov 19 17:24:57 +0000 2020'\n",
      "'Thu Nov 19 17:24:48 +0000 2020'\n",
      "'Thu Nov 19 17:24:46 +0000 2020'\n",
      "'Thu Nov 19 17:24:41 +0000 2020'\n",
      "'Thu Nov 19 17:24:40 +0000 2020'\n",
      "'Thu Nov 19 17:24:38 +0000 2020'\n",
      "'Thu Nov 19 17:24:38 +0000 2020'\n",
      "'Thu Nov 19 17:24:37 +0000 2020'\n",
      "'Thu Nov 19 17:24:30 +0000 2020'\n",
      "'Thu Nov 19 17:24:25 +0000 2020'\n",
      "'Thu Nov 19 17:24:12 +0000 2020'\n",
      "'Thu Nov 19 17:24:12 +0000 2020'\n",
      "'Thu Nov 19 17:24:05 +0000 2020'\n",
      "'Thu Nov 19 17:23:59 +0000 2020'\n",
      "'Thu Nov 19 17:23:56 +0000 2020'\n",
      "'Thu Nov 19 17:23:56 +0000 2020'\n",
      "'Thu Nov 19 17:23:54 +0000 2020'\n",
      "'Thu Nov 19 17:23:46 +0000 2020'\n",
      "'Thu Nov 19 17:23:38 +0000 2020'\n",
      "'Thu Nov 19 17:23:35 +0000 2020'\n",
      "'Thu Nov 19 17:23:34 +0000 2020'\n",
      "'Thu Nov 19 17:23:33 +0000 2020'\n",
      "'Thu Nov 19 17:23:30 +0000 2020'\n",
      "'Thu Nov 19 17:23:29 +0000 2020'\n",
      "'Thu Nov 19 17:23:24 +0000 2020'\n",
      "'Thu Nov 19 17:23:20 +0000 2020'\n",
      "'Thu Nov 19 17:23:19 +0000 2020'\n",
      "'Thu Nov 19 17:23:11 +0000 2020'\n",
      "'Thu Nov 19 17:23:10 +0000 2020'\n",
      "'Thu Nov 19 17:23:10 +0000 2020'\n",
      "'Thu Nov 19 17:23:03 +0000 2020'\n",
      "'Thu Nov 19 17:22:56 +0000 2020'\n",
      "'Thu Nov 19 17:22:47 +0000 2020'\n",
      "'Thu Nov 19 17:22:47 +0000 2020'\n",
      "'Thu Nov 19 17:22:41 +0000 2020'\n",
      "'Thu Nov 19 17:22:34 +0000 2020'\n",
      "'Thu Nov 19 17:22:31 +0000 2020'\n",
      "'Thu Nov 19 17:22:22 +0000 2020'\n",
      "'Thu Nov 19 17:22:09 +0000 2020'\n",
      "'Thu Nov 19 17:22:08 +0000 2020'\n",
      "'Thu Nov 19 17:22:04 +0000 2020'\n",
      "'Thu Nov 19 17:22:02 +0000 2020'\n",
      "'Thu Nov 19 17:22:02 +0000 2020'\n",
      "'Thu Nov 19 17:21:50 +0000 2020'\n",
      "'Thu Nov 19 17:21:48 +0000 2020'\n",
      "'Thu Nov 19 17:21:41 +0000 2020'\n",
      "'Thu Nov 19 17:21:39 +0000 2020'\n",
      "'Thu Nov 19 17:21:37 +0000 2020'\n",
      "'Thu Nov 19 17:21:31 +0000 2020'\n",
      "'Thu Nov 19 17:21:26 +0000 2020'\n",
      "'Thu Nov 19 17:21:16 +0000 2020'\n",
      "'Thu Nov 19 17:21:15 +0000 2020'\n",
      "'Thu Nov 19 17:21:11 +0000 2020'\n",
      "'Thu Nov 19 17:21:11 +0000 2020'\n",
      "'Thu Nov 19 17:21:09 +0000 2020'\n",
      "'Thu Nov 19 17:21:09 +0000 2020'\n",
      "'Thu Nov 19 17:21:05 +0000 2020'\n",
      "'Thu Nov 19 17:21:00 +0000 2020'\n"
     ]
    },
    {
     "ename": "KeyboardInterrupt",
     "evalue": "",
     "output_type": "error",
     "traceback": [
      "\u001b[0;31m---------------------------------------------------------------------------\u001b[0m",
      "\u001b[0;31mKeyboardInterrupt\u001b[0m                         Traceback (most recent call last)",
      "\u001b[0;32m<ipython-input-13-0ecae8b529d2>\u001b[0m in \u001b[0;36m<module>\u001b[0;34m\u001b[0m\n\u001b[1;32m      3\u001b[0m     \u001b[0msince_id_old\u001b[0m \u001b[0;34m=\u001b[0m \u001b[0msince_id_new\u001b[0m\u001b[0;34m\u001b[0m\u001b[0;34m\u001b[0m\u001b[0m\n\u001b[1;32m      4\u001b[0m     search_results = rest_api.search.tweets( count=count,q=q,\n\u001b[0;32m----> 5\u001b[0;31m                         geocode=geocode, max_id= since_id_new)\n\u001b[0m\u001b[1;32m      6\u001b[0m     \u001b[0mstatuses\u001b[0m \u001b[0;34m=\u001b[0m \u001b[0msearch_results\u001b[0m\u001b[0;34m[\u001b[0m\u001b[0;34m\"statuses\"\u001b[0m\u001b[0;34m]\u001b[0m\u001b[0;34m\u001b[0m\u001b[0;34m\u001b[0m\u001b[0m\n\u001b[1;32m      7\u001b[0m     \u001b[0msince_id_new\u001b[0m \u001b[0;34m=\u001b[0m \u001b[0mstatuses\u001b[0m\u001b[0;34m[\u001b[0m\u001b[0;34m-\u001b[0m\u001b[0;36m1\u001b[0m\u001b[0;34m]\u001b[0m\u001b[0;34m[\u001b[0m\u001b[0;34m'id'\u001b[0m\u001b[0;34m]\u001b[0m\u001b[0;34m\u001b[0m\u001b[0;34m\u001b[0m\u001b[0m\n",
      "\u001b[0;32m~/anaconda3/envs/python3/lib/python3.6/site-packages/twitter/api.py\u001b[0m in \u001b[0;36m__call__\u001b[0;34m(self, **kwargs)\u001b[0m\n\u001b[1;32m    332\u001b[0m             \u001b[0;32mreturn\u001b[0m \u001b[0mself\u001b[0m\u001b[0;34m.\u001b[0m\u001b[0m_handle_response_with_retry\u001b[0m\u001b[0;34m(\u001b[0m\u001b[0mreq\u001b[0m\u001b[0;34m,\u001b[0m \u001b[0muri\u001b[0m\u001b[0;34m,\u001b[0m \u001b[0marg_data\u001b[0m\u001b[0;34m,\u001b[0m \u001b[0m_timeout\u001b[0m\u001b[0;34m)\u001b[0m\u001b[0;34m\u001b[0m\u001b[0;34m\u001b[0m\u001b[0m\n\u001b[1;32m    333\u001b[0m         \u001b[0;32melse\u001b[0m\u001b[0;34m:\u001b[0m\u001b[0;34m\u001b[0m\u001b[0;34m\u001b[0m\u001b[0m\n\u001b[0;32m--> 334\u001b[0;31m             \u001b[0;32mreturn\u001b[0m \u001b[0mself\u001b[0m\u001b[0;34m.\u001b[0m\u001b[0m_handle_response\u001b[0m\u001b[0;34m(\u001b[0m\u001b[0mreq\u001b[0m\u001b[0;34m,\u001b[0m \u001b[0muri\u001b[0m\u001b[0;34m,\u001b[0m \u001b[0marg_data\u001b[0m\u001b[0;34m,\u001b[0m \u001b[0m_timeout\u001b[0m\u001b[0;34m)\u001b[0m\u001b[0;34m\u001b[0m\u001b[0;34m\u001b[0m\u001b[0m\n\u001b[0m\u001b[1;32m    335\u001b[0m \u001b[0;34m\u001b[0m\u001b[0m\n\u001b[1;32m    336\u001b[0m     \u001b[0;32mdef\u001b[0m \u001b[0m_handle_response\u001b[0m\u001b[0;34m(\u001b[0m\u001b[0mself\u001b[0m\u001b[0;34m,\u001b[0m \u001b[0mreq\u001b[0m\u001b[0;34m,\u001b[0m \u001b[0muri\u001b[0m\u001b[0;34m,\u001b[0m \u001b[0marg_data\u001b[0m\u001b[0;34m,\u001b[0m \u001b[0m_timeout\u001b[0m\u001b[0;34m=\u001b[0m\u001b[0;32mNone\u001b[0m\u001b[0;34m)\u001b[0m\u001b[0;34m:\u001b[0m\u001b[0;34m\u001b[0m\u001b[0;34m\u001b[0m\u001b[0m\n",
      "\u001b[0;32m~/anaconda3/envs/python3/lib/python3.6/site-packages/twitter/api.py\u001b[0m in \u001b[0;36m_handle_response\u001b[0;34m(self, req, uri, arg_data, _timeout)\u001b[0m\n\u001b[1;32m    339\u001b[0m             \u001b[0mkwargs\u001b[0m\u001b[0;34m[\u001b[0m\u001b[0;34m'timeout'\u001b[0m\u001b[0;34m]\u001b[0m \u001b[0;34m=\u001b[0m \u001b[0m_timeout\u001b[0m\u001b[0;34m\u001b[0m\u001b[0;34m\u001b[0m\u001b[0m\n\u001b[1;32m    340\u001b[0m         \u001b[0;32mtry\u001b[0m\u001b[0;34m:\u001b[0m\u001b[0;34m\u001b[0m\u001b[0;34m\u001b[0m\u001b[0m\n\u001b[0;32m--> 341\u001b[0;31m             \u001b[0mhandle\u001b[0m \u001b[0;34m=\u001b[0m \u001b[0murllib_request\u001b[0m\u001b[0;34m.\u001b[0m\u001b[0murlopen\u001b[0m\u001b[0;34m(\u001b[0m\u001b[0mreq\u001b[0m\u001b[0;34m,\u001b[0m \u001b[0;34m**\u001b[0m\u001b[0mkwargs\u001b[0m\u001b[0;34m)\u001b[0m\u001b[0;34m\u001b[0m\u001b[0;34m\u001b[0m\u001b[0m\n\u001b[0m\u001b[1;32m    342\u001b[0m             \u001b[0;32mif\u001b[0m \u001b[0mhandle\u001b[0m\u001b[0;34m.\u001b[0m\u001b[0mheaders\u001b[0m\u001b[0;34m[\u001b[0m\u001b[0;34m'Content-Type'\u001b[0m\u001b[0;34m]\u001b[0m \u001b[0;32min\u001b[0m \u001b[0;34m[\u001b[0m\u001b[0;34m'image/jpeg'\u001b[0m\u001b[0;34m,\u001b[0m \u001b[0;34m'image/png'\u001b[0m\u001b[0;34m]\u001b[0m\u001b[0;34m:\u001b[0m\u001b[0;34m\u001b[0m\u001b[0;34m\u001b[0m\u001b[0m\n\u001b[1;32m    343\u001b[0m                 \u001b[0;32mreturn\u001b[0m \u001b[0mhandle\u001b[0m\u001b[0;34m\u001b[0m\u001b[0;34m\u001b[0m\u001b[0m\n",
      "\u001b[0;32m~/anaconda3/envs/python3/lib/python3.6/urllib/request.py\u001b[0m in \u001b[0;36murlopen\u001b[0;34m(url, data, timeout, cafile, capath, cadefault, context)\u001b[0m\n\u001b[1;32m    221\u001b[0m     \u001b[0;32melse\u001b[0m\u001b[0;34m:\u001b[0m\u001b[0;34m\u001b[0m\u001b[0;34m\u001b[0m\u001b[0m\n\u001b[1;32m    222\u001b[0m         \u001b[0mopener\u001b[0m \u001b[0;34m=\u001b[0m \u001b[0m_opener\u001b[0m\u001b[0;34m\u001b[0m\u001b[0;34m\u001b[0m\u001b[0m\n\u001b[0;32m--> 223\u001b[0;31m     \u001b[0;32mreturn\u001b[0m \u001b[0mopener\u001b[0m\u001b[0;34m.\u001b[0m\u001b[0mopen\u001b[0m\u001b[0;34m(\u001b[0m\u001b[0murl\u001b[0m\u001b[0;34m,\u001b[0m \u001b[0mdata\u001b[0m\u001b[0;34m,\u001b[0m \u001b[0mtimeout\u001b[0m\u001b[0;34m)\u001b[0m\u001b[0;34m\u001b[0m\u001b[0;34m\u001b[0m\u001b[0m\n\u001b[0m\u001b[1;32m    224\u001b[0m \u001b[0;34m\u001b[0m\u001b[0m\n\u001b[1;32m    225\u001b[0m \u001b[0;32mdef\u001b[0m \u001b[0minstall_opener\u001b[0m\u001b[0;34m(\u001b[0m\u001b[0mopener\u001b[0m\u001b[0;34m)\u001b[0m\u001b[0;34m:\u001b[0m\u001b[0;34m\u001b[0m\u001b[0;34m\u001b[0m\u001b[0m\n",
      "\u001b[0;32m~/anaconda3/envs/python3/lib/python3.6/urllib/request.py\u001b[0m in \u001b[0;36mopen\u001b[0;34m(self, fullurl, data, timeout)\u001b[0m\n\u001b[1;32m    524\u001b[0m             \u001b[0mreq\u001b[0m \u001b[0;34m=\u001b[0m \u001b[0mmeth\u001b[0m\u001b[0;34m(\u001b[0m\u001b[0mreq\u001b[0m\u001b[0;34m)\u001b[0m\u001b[0;34m\u001b[0m\u001b[0;34m\u001b[0m\u001b[0m\n\u001b[1;32m    525\u001b[0m \u001b[0;34m\u001b[0m\u001b[0m\n\u001b[0;32m--> 526\u001b[0;31m         \u001b[0mresponse\u001b[0m \u001b[0;34m=\u001b[0m \u001b[0mself\u001b[0m\u001b[0;34m.\u001b[0m\u001b[0m_open\u001b[0m\u001b[0;34m(\u001b[0m\u001b[0mreq\u001b[0m\u001b[0;34m,\u001b[0m \u001b[0mdata\u001b[0m\u001b[0;34m)\u001b[0m\u001b[0;34m\u001b[0m\u001b[0;34m\u001b[0m\u001b[0m\n\u001b[0m\u001b[1;32m    527\u001b[0m \u001b[0;34m\u001b[0m\u001b[0m\n\u001b[1;32m    528\u001b[0m         \u001b[0;31m# post-process response\u001b[0m\u001b[0;34m\u001b[0m\u001b[0;34m\u001b[0m\u001b[0;34m\u001b[0m\u001b[0m\n",
      "\u001b[0;32m~/anaconda3/envs/python3/lib/python3.6/urllib/request.py\u001b[0m in \u001b[0;36m_open\u001b[0;34m(self, req, data)\u001b[0m\n\u001b[1;32m    542\u001b[0m         \u001b[0mprotocol\u001b[0m \u001b[0;34m=\u001b[0m \u001b[0mreq\u001b[0m\u001b[0;34m.\u001b[0m\u001b[0mtype\u001b[0m\u001b[0;34m\u001b[0m\u001b[0;34m\u001b[0m\u001b[0m\n\u001b[1;32m    543\u001b[0m         result = self._call_chain(self.handle_open, protocol, protocol +\n\u001b[0;32m--> 544\u001b[0;31m                                   '_open', req)\n\u001b[0m\u001b[1;32m    545\u001b[0m         \u001b[0;32mif\u001b[0m \u001b[0mresult\u001b[0m\u001b[0;34m:\u001b[0m\u001b[0;34m\u001b[0m\u001b[0;34m\u001b[0m\u001b[0m\n\u001b[1;32m    546\u001b[0m             \u001b[0;32mreturn\u001b[0m \u001b[0mresult\u001b[0m\u001b[0;34m\u001b[0m\u001b[0;34m\u001b[0m\u001b[0m\n",
      "\u001b[0;32m~/anaconda3/envs/python3/lib/python3.6/urllib/request.py\u001b[0m in \u001b[0;36m_call_chain\u001b[0;34m(self, chain, kind, meth_name, *args)\u001b[0m\n\u001b[1;32m    502\u001b[0m         \u001b[0;32mfor\u001b[0m \u001b[0mhandler\u001b[0m \u001b[0;32min\u001b[0m \u001b[0mhandlers\u001b[0m\u001b[0;34m:\u001b[0m\u001b[0;34m\u001b[0m\u001b[0;34m\u001b[0m\u001b[0m\n\u001b[1;32m    503\u001b[0m             \u001b[0mfunc\u001b[0m \u001b[0;34m=\u001b[0m \u001b[0mgetattr\u001b[0m\u001b[0;34m(\u001b[0m\u001b[0mhandler\u001b[0m\u001b[0;34m,\u001b[0m \u001b[0mmeth_name\u001b[0m\u001b[0;34m)\u001b[0m\u001b[0;34m\u001b[0m\u001b[0;34m\u001b[0m\u001b[0m\n\u001b[0;32m--> 504\u001b[0;31m             \u001b[0mresult\u001b[0m \u001b[0;34m=\u001b[0m \u001b[0mfunc\u001b[0m\u001b[0;34m(\u001b[0m\u001b[0;34m*\u001b[0m\u001b[0margs\u001b[0m\u001b[0;34m)\u001b[0m\u001b[0;34m\u001b[0m\u001b[0;34m\u001b[0m\u001b[0m\n\u001b[0m\u001b[1;32m    505\u001b[0m             \u001b[0;32mif\u001b[0m \u001b[0mresult\u001b[0m \u001b[0;32mis\u001b[0m \u001b[0;32mnot\u001b[0m \u001b[0;32mNone\u001b[0m\u001b[0;34m:\u001b[0m\u001b[0;34m\u001b[0m\u001b[0;34m\u001b[0m\u001b[0m\n\u001b[1;32m    506\u001b[0m                 \u001b[0;32mreturn\u001b[0m \u001b[0mresult\u001b[0m\u001b[0;34m\u001b[0m\u001b[0;34m\u001b[0m\u001b[0m\n",
      "\u001b[0;32m~/anaconda3/envs/python3/lib/python3.6/urllib/request.py\u001b[0m in \u001b[0;36mhttps_open\u001b[0;34m(self, req)\u001b[0m\n\u001b[1;32m   1359\u001b[0m         \u001b[0;32mdef\u001b[0m \u001b[0mhttps_open\u001b[0m\u001b[0;34m(\u001b[0m\u001b[0mself\u001b[0m\u001b[0;34m,\u001b[0m \u001b[0mreq\u001b[0m\u001b[0;34m)\u001b[0m\u001b[0;34m:\u001b[0m\u001b[0;34m\u001b[0m\u001b[0;34m\u001b[0m\u001b[0m\n\u001b[1;32m   1360\u001b[0m             return self.do_open(http.client.HTTPSConnection, req,\n\u001b[0;32m-> 1361\u001b[0;31m                 context=self._context, check_hostname=self._check_hostname)\n\u001b[0m\u001b[1;32m   1362\u001b[0m \u001b[0;34m\u001b[0m\u001b[0m\n\u001b[1;32m   1363\u001b[0m         \u001b[0mhttps_request\u001b[0m \u001b[0;34m=\u001b[0m \u001b[0mAbstractHTTPHandler\u001b[0m\u001b[0;34m.\u001b[0m\u001b[0mdo_request_\u001b[0m\u001b[0;34m\u001b[0m\u001b[0;34m\u001b[0m\u001b[0m\n",
      "\u001b[0;32m~/anaconda3/envs/python3/lib/python3.6/urllib/request.py\u001b[0m in \u001b[0;36mdo_open\u001b[0;34m(self, http_class, req, **http_conn_args)\u001b[0m\n\u001b[1;32m   1319\u001b[0m             \u001b[0;32mexcept\u001b[0m \u001b[0mOSError\u001b[0m \u001b[0;32mas\u001b[0m \u001b[0merr\u001b[0m\u001b[0;34m:\u001b[0m \u001b[0;31m# timeout error\u001b[0m\u001b[0;34m\u001b[0m\u001b[0;34m\u001b[0m\u001b[0m\n\u001b[1;32m   1320\u001b[0m                 \u001b[0;32mraise\u001b[0m \u001b[0mURLError\u001b[0m\u001b[0;34m(\u001b[0m\u001b[0merr\u001b[0m\u001b[0;34m)\u001b[0m\u001b[0;34m\u001b[0m\u001b[0;34m\u001b[0m\u001b[0m\n\u001b[0;32m-> 1321\u001b[0;31m             \u001b[0mr\u001b[0m \u001b[0;34m=\u001b[0m \u001b[0mh\u001b[0m\u001b[0;34m.\u001b[0m\u001b[0mgetresponse\u001b[0m\u001b[0;34m(\u001b[0m\u001b[0;34m)\u001b[0m\u001b[0;34m\u001b[0m\u001b[0;34m\u001b[0m\u001b[0m\n\u001b[0m\u001b[1;32m   1322\u001b[0m         \u001b[0;32mexcept\u001b[0m\u001b[0;34m:\u001b[0m\u001b[0;34m\u001b[0m\u001b[0;34m\u001b[0m\u001b[0m\n\u001b[1;32m   1323\u001b[0m             \u001b[0mh\u001b[0m\u001b[0;34m.\u001b[0m\u001b[0mclose\u001b[0m\u001b[0;34m(\u001b[0m\u001b[0;34m)\u001b[0m\u001b[0;34m\u001b[0m\u001b[0;34m\u001b[0m\u001b[0m\n",
      "\u001b[0;32m~/anaconda3/envs/python3/lib/python3.6/http/client.py\u001b[0m in \u001b[0;36mgetresponse\u001b[0;34m(self)\u001b[0m\n\u001b[1;32m   1352\u001b[0m         \u001b[0;32mtry\u001b[0m\u001b[0;34m:\u001b[0m\u001b[0;34m\u001b[0m\u001b[0;34m\u001b[0m\u001b[0m\n\u001b[1;32m   1353\u001b[0m             \u001b[0;32mtry\u001b[0m\u001b[0;34m:\u001b[0m\u001b[0;34m\u001b[0m\u001b[0;34m\u001b[0m\u001b[0m\n\u001b[0;32m-> 1354\u001b[0;31m                 \u001b[0mresponse\u001b[0m\u001b[0;34m.\u001b[0m\u001b[0mbegin\u001b[0m\u001b[0;34m(\u001b[0m\u001b[0;34m)\u001b[0m\u001b[0;34m\u001b[0m\u001b[0;34m\u001b[0m\u001b[0m\n\u001b[0m\u001b[1;32m   1355\u001b[0m             \u001b[0;32mexcept\u001b[0m \u001b[0mConnectionError\u001b[0m\u001b[0;34m:\u001b[0m\u001b[0;34m\u001b[0m\u001b[0;34m\u001b[0m\u001b[0m\n\u001b[1;32m   1356\u001b[0m                 \u001b[0mself\u001b[0m\u001b[0;34m.\u001b[0m\u001b[0mclose\u001b[0m\u001b[0;34m(\u001b[0m\u001b[0;34m)\u001b[0m\u001b[0;34m\u001b[0m\u001b[0;34m\u001b[0m\u001b[0m\n",
      "\u001b[0;32m~/anaconda3/envs/python3/lib/python3.6/http/client.py\u001b[0m in \u001b[0;36mbegin\u001b[0;34m(self)\u001b[0m\n\u001b[1;32m    305\u001b[0m         \u001b[0;31m# read until we get a non-100 response\u001b[0m\u001b[0;34m\u001b[0m\u001b[0;34m\u001b[0m\u001b[0;34m\u001b[0m\u001b[0m\n\u001b[1;32m    306\u001b[0m         \u001b[0;32mwhile\u001b[0m \u001b[0;32mTrue\u001b[0m\u001b[0;34m:\u001b[0m\u001b[0;34m\u001b[0m\u001b[0;34m\u001b[0m\u001b[0m\n\u001b[0;32m--> 307\u001b[0;31m             \u001b[0mversion\u001b[0m\u001b[0;34m,\u001b[0m \u001b[0mstatus\u001b[0m\u001b[0;34m,\u001b[0m \u001b[0mreason\u001b[0m \u001b[0;34m=\u001b[0m \u001b[0mself\u001b[0m\u001b[0;34m.\u001b[0m\u001b[0m_read_status\u001b[0m\u001b[0;34m(\u001b[0m\u001b[0;34m)\u001b[0m\u001b[0;34m\u001b[0m\u001b[0;34m\u001b[0m\u001b[0m\n\u001b[0m\u001b[1;32m    308\u001b[0m             \u001b[0;32mif\u001b[0m \u001b[0mstatus\u001b[0m \u001b[0;34m!=\u001b[0m \u001b[0mCONTINUE\u001b[0m\u001b[0;34m:\u001b[0m\u001b[0;34m\u001b[0m\u001b[0;34m\u001b[0m\u001b[0m\n\u001b[1;32m    309\u001b[0m                 \u001b[0;32mbreak\u001b[0m\u001b[0;34m\u001b[0m\u001b[0;34m\u001b[0m\u001b[0m\n",
      "\u001b[0;32m~/anaconda3/envs/python3/lib/python3.6/http/client.py\u001b[0m in \u001b[0;36m_read_status\u001b[0;34m(self)\u001b[0m\n\u001b[1;32m    266\u001b[0m \u001b[0;34m\u001b[0m\u001b[0m\n\u001b[1;32m    267\u001b[0m     \u001b[0;32mdef\u001b[0m \u001b[0m_read_status\u001b[0m\u001b[0;34m(\u001b[0m\u001b[0mself\u001b[0m\u001b[0;34m)\u001b[0m\u001b[0;34m:\u001b[0m\u001b[0;34m\u001b[0m\u001b[0;34m\u001b[0m\u001b[0m\n\u001b[0;32m--> 268\u001b[0;31m         \u001b[0mline\u001b[0m \u001b[0;34m=\u001b[0m \u001b[0mstr\u001b[0m\u001b[0;34m(\u001b[0m\u001b[0mself\u001b[0m\u001b[0;34m.\u001b[0m\u001b[0mfp\u001b[0m\u001b[0;34m.\u001b[0m\u001b[0mreadline\u001b[0m\u001b[0;34m(\u001b[0m\u001b[0m_MAXLINE\u001b[0m \u001b[0;34m+\u001b[0m \u001b[0;36m1\u001b[0m\u001b[0;34m)\u001b[0m\u001b[0;34m,\u001b[0m \u001b[0;34m\"iso-8859-1\"\u001b[0m\u001b[0;34m)\u001b[0m\u001b[0;34m\u001b[0m\u001b[0;34m\u001b[0m\u001b[0m\n\u001b[0m\u001b[1;32m    269\u001b[0m         \u001b[0;32mif\u001b[0m \u001b[0mlen\u001b[0m\u001b[0;34m(\u001b[0m\u001b[0mline\u001b[0m\u001b[0;34m)\u001b[0m \u001b[0;34m>\u001b[0m \u001b[0m_MAXLINE\u001b[0m\u001b[0;34m:\u001b[0m\u001b[0;34m\u001b[0m\u001b[0;34m\u001b[0m\u001b[0m\n\u001b[1;32m    270\u001b[0m             \u001b[0;32mraise\u001b[0m \u001b[0mLineTooLong\u001b[0m\u001b[0;34m(\u001b[0m\u001b[0;34m\"status line\"\u001b[0m\u001b[0;34m)\u001b[0m\u001b[0;34m\u001b[0m\u001b[0;34m\u001b[0m\u001b[0m\n",
      "\u001b[0;32m~/anaconda3/envs/python3/lib/python3.6/socket.py\u001b[0m in \u001b[0;36mreadinto\u001b[0;34m(self, b)\u001b[0m\n\u001b[1;32m    584\u001b[0m         \u001b[0;32mwhile\u001b[0m \u001b[0;32mTrue\u001b[0m\u001b[0;34m:\u001b[0m\u001b[0;34m\u001b[0m\u001b[0;34m\u001b[0m\u001b[0m\n\u001b[1;32m    585\u001b[0m             \u001b[0;32mtry\u001b[0m\u001b[0;34m:\u001b[0m\u001b[0;34m\u001b[0m\u001b[0;34m\u001b[0m\u001b[0m\n\u001b[0;32m--> 586\u001b[0;31m                 \u001b[0;32mreturn\u001b[0m \u001b[0mself\u001b[0m\u001b[0;34m.\u001b[0m\u001b[0m_sock\u001b[0m\u001b[0;34m.\u001b[0m\u001b[0mrecv_into\u001b[0m\u001b[0;34m(\u001b[0m\u001b[0mb\u001b[0m\u001b[0;34m)\u001b[0m\u001b[0;34m\u001b[0m\u001b[0;34m\u001b[0m\u001b[0m\n\u001b[0m\u001b[1;32m    587\u001b[0m             \u001b[0;32mexcept\u001b[0m \u001b[0mtimeout\u001b[0m\u001b[0;34m:\u001b[0m\u001b[0;34m\u001b[0m\u001b[0;34m\u001b[0m\u001b[0m\n\u001b[1;32m    588\u001b[0m                 \u001b[0mself\u001b[0m\u001b[0;34m.\u001b[0m\u001b[0m_timeout_occurred\u001b[0m \u001b[0;34m=\u001b[0m \u001b[0;32mTrue\u001b[0m\u001b[0;34m\u001b[0m\u001b[0;34m\u001b[0m\u001b[0m\n",
      "\u001b[0;32m~/anaconda3/envs/python3/lib/python3.6/ssl.py\u001b[0m in \u001b[0;36mrecv_into\u001b[0;34m(self, buffer, nbytes, flags)\u001b[0m\n\u001b[1;32m   1010\u001b[0m                   \u001b[0;34m\"non-zero flags not allowed in calls to recv_into() on %s\"\u001b[0m \u001b[0;34m%\u001b[0m\u001b[0;34m\u001b[0m\u001b[0;34m\u001b[0m\u001b[0m\n\u001b[1;32m   1011\u001b[0m                   self.__class__)\n\u001b[0;32m-> 1012\u001b[0;31m             \u001b[0;32mreturn\u001b[0m \u001b[0mself\u001b[0m\u001b[0;34m.\u001b[0m\u001b[0mread\u001b[0m\u001b[0;34m(\u001b[0m\u001b[0mnbytes\u001b[0m\u001b[0;34m,\u001b[0m \u001b[0mbuffer\u001b[0m\u001b[0;34m)\u001b[0m\u001b[0;34m\u001b[0m\u001b[0;34m\u001b[0m\u001b[0m\n\u001b[0m\u001b[1;32m   1013\u001b[0m         \u001b[0;32melse\u001b[0m\u001b[0;34m:\u001b[0m\u001b[0;34m\u001b[0m\u001b[0;34m\u001b[0m\u001b[0m\n\u001b[1;32m   1014\u001b[0m             \u001b[0;32mreturn\u001b[0m \u001b[0msocket\u001b[0m\u001b[0;34m.\u001b[0m\u001b[0mrecv_into\u001b[0m\u001b[0;34m(\u001b[0m\u001b[0mself\u001b[0m\u001b[0;34m,\u001b[0m \u001b[0mbuffer\u001b[0m\u001b[0;34m,\u001b[0m \u001b[0mnbytes\u001b[0m\u001b[0;34m,\u001b[0m \u001b[0mflags\u001b[0m\u001b[0;34m)\u001b[0m\u001b[0;34m\u001b[0m\u001b[0;34m\u001b[0m\u001b[0m\n",
      "\u001b[0;32m~/anaconda3/envs/python3/lib/python3.6/ssl.py\u001b[0m in \u001b[0;36mread\u001b[0;34m(self, len, buffer)\u001b[0m\n\u001b[1;32m    872\u001b[0m             \u001b[0;32mraise\u001b[0m \u001b[0mValueError\u001b[0m\u001b[0;34m(\u001b[0m\u001b[0;34m\"Read on closed or unwrapped SSL socket.\"\u001b[0m\u001b[0;34m)\u001b[0m\u001b[0;34m\u001b[0m\u001b[0;34m\u001b[0m\u001b[0m\n\u001b[1;32m    873\u001b[0m         \u001b[0;32mtry\u001b[0m\u001b[0;34m:\u001b[0m\u001b[0;34m\u001b[0m\u001b[0;34m\u001b[0m\u001b[0m\n\u001b[0;32m--> 874\u001b[0;31m             \u001b[0;32mreturn\u001b[0m \u001b[0mself\u001b[0m\u001b[0;34m.\u001b[0m\u001b[0m_sslobj\u001b[0m\u001b[0;34m.\u001b[0m\u001b[0mread\u001b[0m\u001b[0;34m(\u001b[0m\u001b[0mlen\u001b[0m\u001b[0;34m,\u001b[0m \u001b[0mbuffer\u001b[0m\u001b[0;34m)\u001b[0m\u001b[0;34m\u001b[0m\u001b[0;34m\u001b[0m\u001b[0m\n\u001b[0m\u001b[1;32m    875\u001b[0m         \u001b[0;32mexcept\u001b[0m \u001b[0mSSLError\u001b[0m \u001b[0;32mas\u001b[0m \u001b[0mx\u001b[0m\u001b[0;34m:\u001b[0m\u001b[0;34m\u001b[0m\u001b[0;34m\u001b[0m\u001b[0m\n\u001b[1;32m    876\u001b[0m             \u001b[0;32mif\u001b[0m \u001b[0mx\u001b[0m\u001b[0;34m.\u001b[0m\u001b[0margs\u001b[0m\u001b[0;34m[\u001b[0m\u001b[0;36m0\u001b[0m\u001b[0;34m]\u001b[0m \u001b[0;34m==\u001b[0m \u001b[0mSSL_ERROR_EOF\u001b[0m \u001b[0;32mand\u001b[0m \u001b[0mself\u001b[0m\u001b[0;34m.\u001b[0m\u001b[0msuppress_ragged_eofs\u001b[0m\u001b[0;34m:\u001b[0m\u001b[0;34m\u001b[0m\u001b[0;34m\u001b[0m\u001b[0m\n",
      "\u001b[0;32m~/anaconda3/envs/python3/lib/python3.6/ssl.py\u001b[0m in \u001b[0;36mread\u001b[0;34m(self, len, buffer)\u001b[0m\n\u001b[1;32m    629\u001b[0m         \"\"\"\n\u001b[1;32m    630\u001b[0m         \u001b[0;32mif\u001b[0m \u001b[0mbuffer\u001b[0m \u001b[0;32mis\u001b[0m \u001b[0;32mnot\u001b[0m \u001b[0;32mNone\u001b[0m\u001b[0;34m:\u001b[0m\u001b[0;34m\u001b[0m\u001b[0;34m\u001b[0m\u001b[0m\n\u001b[0;32m--> 631\u001b[0;31m             \u001b[0mv\u001b[0m \u001b[0;34m=\u001b[0m \u001b[0mself\u001b[0m\u001b[0;34m.\u001b[0m\u001b[0m_sslobj\u001b[0m\u001b[0;34m.\u001b[0m\u001b[0mread\u001b[0m\u001b[0;34m(\u001b[0m\u001b[0mlen\u001b[0m\u001b[0;34m,\u001b[0m \u001b[0mbuffer\u001b[0m\u001b[0;34m)\u001b[0m\u001b[0;34m\u001b[0m\u001b[0;34m\u001b[0m\u001b[0m\n\u001b[0m\u001b[1;32m    632\u001b[0m         \u001b[0;32melse\u001b[0m\u001b[0;34m:\u001b[0m\u001b[0;34m\u001b[0m\u001b[0;34m\u001b[0m\u001b[0m\n\u001b[1;32m    633\u001b[0m             \u001b[0mv\u001b[0m \u001b[0;34m=\u001b[0m \u001b[0mself\u001b[0m\u001b[0;34m.\u001b[0m\u001b[0m_sslobj\u001b[0m\u001b[0;34m.\u001b[0m\u001b[0mread\u001b[0m\u001b[0;34m(\u001b[0m\u001b[0mlen\u001b[0m\u001b[0;34m)\u001b[0m\u001b[0;34m\u001b[0m\u001b[0;34m\u001b[0m\u001b[0m\n",
      "\u001b[0;31mKeyboardInterrupt\u001b[0m: "
     ]
    }
   ],
   "source": [
    "since_id_old = 0\n",
    "while(since_id_new != since_id_old):\n",
    "    since_id_old = since_id_new\n",
    "    search_results = rest_api.search.tweets( count=count,q=q,\n",
    "                        geocode=geocode, max_id= since_id_new)\n",
    "    statuses = search_results[\"statuses\"]\n",
    "    since_id_new = statuses[-1]['id']\n",
    "    for statuse in statuses:\n",
    "        try:\n",
    "            tweet_collection.insert_one(statuse)\n",
    "            pprint(statuse['created_at']) # print the date of the collected tweets\n",
    "        except:\n",
    "            pass"
   ]
  },
  {
   "cell_type": "markdown",
   "metadata": {},
   "source": [
    "## View the Collected Tweets"
   ]
  },
  {
   "cell_type": "markdown",
   "metadata": {},
   "source": [
    "Print the number of tweets and unique twitter users"
   ]
  },
  {
   "cell_type": "code",
   "execution_count": 14,
   "metadata": {},
   "outputs": [
    {
     "name": "stdout",
     "output_type": "stream",
     "text": [
      "17753\n",
      "13500\n"
     ]
    }
   ],
   "source": [
    "print(tweet_collection.estimated_document_count())# number of tweets collected\n",
    "\n",
    "user_cursor = tweet_collection.distinct(\"user.id\")\n",
    "print (len(user_cursor)) # number of unique Twitter users "
   ]
  },
  {
   "cell_type": "markdown",
   "metadata": {},
   "source": [
    "Create a text index and print the Tweets containing specific keywords. "
   ]
  },
  {
   "cell_type": "code",
   "execution_count": 15,
   "metadata": {
    "scrolled": false
   },
   "outputs": [
    {
     "data": {
      "text/plain": [
       "'text_index'"
      ]
     },
     "execution_count": 15,
     "metadata": {},
     "output_type": "execute_result"
    }
   ],
   "source": [
    "tweet_collection.create_index([(\"text\", pymongo.TEXT)], name='text_index', default_language='english') # create a text index\n"
   ]
  },
  {
   "cell_type": "markdown",
   "metadata": {},
   "source": [
    "Create a cursor to query tweets with the created index"
   ]
  },
  {
   "cell_type": "code",
   "execution_count": 16,
   "metadata": {},
   "outputs": [],
   "source": [
    "tweet_cursor = tweet_collection.find({\"$text\": {\"$search\": \"covid19\"}}) # return tweets contain vote"
   ]
  },
  {
   "cell_type": "markdown",
   "metadata": {},
   "source": [
    "Use pprint to display tweets"
   ]
  },
  {
   "cell_type": "code",
   "execution_count": 17,
   "metadata": {
    "scrolled": false
   },
   "outputs": [
    {
     "name": "stdout",
     "output_type": "stream",
     "text": [
      "----\n",
      "name: Elizabeth ✨\n",
      "text: #COVID19 #COVID19AB #Biden #trump #TransitionNow #GOPCorruptionOverCountry #ScienceMatters #science #TrumpCrimeFamily #COVIDー19\n",
      "----\n",
      "name: #NASTYWOMENFORBIDEN2020\n",
      "text: Turns out @HarveyWeinstein may have COVID. He is in isolation with a 101 degree fever. What are your thoughts? #Covid_19 #COVID19 #COVIDー19\n",
      "----\n",
      "name: 🇺🇸♥️♥️🧡💛💙💚🖤🇺🇸#Freedom🇺🇸#American🇺🇸\n",
      "text: #COVID19 #Denialism? What is that?  I have read @realDonaldTrump supporters deny #COVID19 is real.  I am a #Trump s… https://t.co/INTwMGSbRw\n",
      "----\n",
      "name: Kathie Bailey\n",
      "text: RT @NASEM_BISO: Our #International Collaboration in the #COVID19 Era webinar will examine how COVID19 has disrupted formal mechanisms for k…\n",
      "----\n",
      "name: Howard Gold\n",
      "text: The problem with all this Covid19 testing is it can’t tell the difference between Covid19 and the seasonal flu that… https://t.co/F1125Brpwk\n",
      "----\n",
      "name: Dalia\n",
      "text: #COVID19 #Thanksgiving \n",
      "\n",
      "How will the hospitals handle Salmonella poisoning next Friday followed by COVID19 on Monday? 🤔🤷🏻‍♀️\n",
      "----\n",
      "name: Karen R. Lips\n",
      "text: RT @NASEM_BISO: Our #International Collaboration in the #COVID19 Era webinar will examine how COVID19 has disrupted formal mechanisms for k…\n",
      "----\n",
      "name: NASEM BISO\n",
      "text: Our #International Collaboration in the #COVID19 Era webinar will examine how COVID19 has disrupted formal mechanis… https://t.co/vkOmtz6i5b\n",
      "----\n",
      "name: Dr. Stephen M. Hahn\n",
      "text: We continue to demonstrate unprecedented speed in response to #COVID19. FDA authorized the first #COVID19 test that… https://t.co/7Z8yVK38E2\n",
      "----\n",
      "name: KaleidoscopeTech\n",
      "text: RT @LMLohrey: Trump's Covid19 Advisor Scott Atlas is encouraging Michigan residents to rise up against Michigan's new Covid19 restrictions.…\n"
     ]
    }
   ],
   "source": [
    "\n",
    "for document in tweet_cursor[0:10]: # display the first 10 tweets from the query\n",
    "    try:\n",
    "        print ('----')\n",
    "#         pprint (document) # use pprint to print the entire tweet document\n",
    "   \n",
    "        print ('name:', document[\"user\"][\"name\"]) # user name\n",
    "        print ('text:', document[\"text\"])         # tweets\n",
    "    except:\n",
    "        print (\"***error in encoding\")\n",
    "        pass"
   ]
  },
  {
   "cell_type": "code",
   "execution_count": 18,
   "metadata": {},
   "outputs": [],
   "source": [
    "tweet_cursor = tweet_collection.find({\"$text\": {\"$search\": \"covid19\"}}) # return tweets contain vote"
   ]
  },
  {
   "cell_type": "markdown",
   "metadata": {},
   "source": [
    "Use pandas to display tweets"
   ]
  },
  {
   "cell_type": "code",
   "execution_count": 19,
   "metadata": {},
   "outputs": [
    {
     "data": {
      "text/html": [
       "<div>\n",
       "<style scoped>\n",
       "    .dataframe tbody tr th:only-of-type {\n",
       "        vertical-align: middle;\n",
       "    }\n",
       "\n",
       "    .dataframe tbody tr th {\n",
       "        vertical-align: top;\n",
       "    }\n",
       "\n",
       "    .dataframe thead th {\n",
       "        text-align: right;\n",
       "    }\n",
       "</style>\n",
       "<table border=\"1\" class=\"dataframe\">\n",
       "  <thead>\n",
       "    <tr style=\"text-align: right;\">\n",
       "      <th></th>\n",
       "      <th>_id</th>\n",
       "      <th>created_at</th>\n",
       "      <th>id</th>\n",
       "      <th>id_str</th>\n",
       "      <th>text</th>\n",
       "      <th>truncated</th>\n",
       "      <th>entities</th>\n",
       "      <th>metadata</th>\n",
       "      <th>source</th>\n",
       "      <th>in_reply_to_status_id</th>\n",
       "      <th>...</th>\n",
       "      <th>quoted_status_id_str</th>\n",
       "      <th>quoted_status</th>\n",
       "      <th>quoted_status_permalink</th>\n",
       "      <th>quote_count</th>\n",
       "      <th>reply_count</th>\n",
       "      <th>filter_level</th>\n",
       "      <th>timestamp_ms</th>\n",
       "      <th>extended_entities</th>\n",
       "      <th>display_text_range</th>\n",
       "      <th>extended_tweet</th>\n",
       "    </tr>\n",
       "  </thead>\n",
       "  <tbody>\n",
       "    <tr>\n",
       "      <th>0</th>\n",
       "      <td>5fb6ae5b832d4822a2c77bea</td>\n",
       "      <td>Thu Nov 19 17:39:04 +0000 2020</td>\n",
       "      <td>1329479317449895940</td>\n",
       "      <td>1329479317449895940</td>\n",
       "      <td>#COVID19 #COVID19AB #Biden #trump #TransitionN...</td>\n",
       "      <td>False</td>\n",
       "      <td>{'hashtags': [{'text': 'COVID19', 'indices': [...</td>\n",
       "      <td>{'iso_language_code': 'und', 'result_type': 'r...</td>\n",
       "      <td>&lt;a href=\"http://twitter.com/download/iphone\" r...</td>\n",
       "      <td>1.329477e+18</td>\n",
       "      <td>...</td>\n",
       "      <td>NaN</td>\n",
       "      <td>NaN</td>\n",
       "      <td>NaN</td>\n",
       "      <td>NaN</td>\n",
       "      <td>NaN</td>\n",
       "      <td>NaN</td>\n",
       "      <td>NaN</td>\n",
       "      <td>NaN</td>\n",
       "      <td>NaN</td>\n",
       "      <td>NaN</td>\n",
       "    </tr>\n",
       "    <tr>\n",
       "      <th>1</th>\n",
       "      <td>5fb6aa5806e78d7ce7af53d8</td>\n",
       "      <td>Wed Nov 18 02:35:41 +0000 2020</td>\n",
       "      <td>1328889587356168196</td>\n",
       "      <td>1328889587356168196</td>\n",
       "      <td>Turns out @HarveyWeinstein may have COVID. He ...</td>\n",
       "      <td>False</td>\n",
       "      <td>{'hashtags': [{'text': 'Covid_19', 'indices': ...</td>\n",
       "      <td>{'iso_language_code': 'en', 'result_type': 're...</td>\n",
       "      <td>&lt;a href=\"http://twitter.com/download/iphone\" r...</td>\n",
       "      <td>NaN</td>\n",
       "      <td>...</td>\n",
       "      <td>NaN</td>\n",
       "      <td>NaN</td>\n",
       "      <td>NaN</td>\n",
       "      <td>NaN</td>\n",
       "      <td>NaN</td>\n",
       "      <td>NaN</td>\n",
       "      <td>NaN</td>\n",
       "      <td>NaN</td>\n",
       "      <td>NaN</td>\n",
       "      <td>NaN</td>\n",
       "    </tr>\n",
       "    <tr>\n",
       "      <th>2</th>\n",
       "      <td>5fb6aa6906e78d7ce7af593c</td>\n",
       "      <td>Tue Nov 17 22:39:08 +0000 2020</td>\n",
       "      <td>1328830054038724610</td>\n",
       "      <td>1328830054038724610</td>\n",
       "      <td>#COVID19 #Denialism? What is that?  I have rea...</td>\n",
       "      <td>True</td>\n",
       "      <td>{'hashtags': [{'text': 'COVID19', 'indices': [...</td>\n",
       "      <td>{'iso_language_code': 'en', 'result_type': 're...</td>\n",
       "      <td>&lt;a href=\"http://twitter.com/download/android\" ...</td>\n",
       "      <td>NaN</td>\n",
       "      <td>...</td>\n",
       "      <td>NaN</td>\n",
       "      <td>NaN</td>\n",
       "      <td>NaN</td>\n",
       "      <td>NaN</td>\n",
       "      <td>NaN</td>\n",
       "      <td>NaN</td>\n",
       "      <td>NaN</td>\n",
       "      <td>NaN</td>\n",
       "      <td>NaN</td>\n",
       "      <td>NaN</td>\n",
       "    </tr>\n",
       "    <tr>\n",
       "      <th>3</th>\n",
       "      <td>5fb6aa5a06e78d7ce7af5479</td>\n",
       "      <td>Wed Nov 18 02:04:21 +0000 2020</td>\n",
       "      <td>1328881702396178433</td>\n",
       "      <td>1328881702396178433</td>\n",
       "      <td>RT @NASEM_BISO: Our #International Collaborati...</td>\n",
       "      <td>False</td>\n",
       "      <td>{'hashtags': [{'text': 'International', 'indic...</td>\n",
       "      <td>{'iso_language_code': 'en', 'result_type': 're...</td>\n",
       "      <td>&lt;a href=\"https://mobile.twitter.com\" rel=\"nofo...</td>\n",
       "      <td>NaN</td>\n",
       "      <td>...</td>\n",
       "      <td>NaN</td>\n",
       "      <td>NaN</td>\n",
       "      <td>NaN</td>\n",
       "      <td>NaN</td>\n",
       "      <td>NaN</td>\n",
       "      <td>NaN</td>\n",
       "      <td>NaN</td>\n",
       "      <td>NaN</td>\n",
       "      <td>NaN</td>\n",
       "      <td>NaN</td>\n",
       "    </tr>\n",
       "    <tr>\n",
       "      <th>4</th>\n",
       "      <td>5fb6a9bd06e78d7ce7af2162</td>\n",
       "      <td>Thu Nov 19 15:12:12 +0000 2020</td>\n",
       "      <td>1329442358329569283</td>\n",
       "      <td>1329442358329569283</td>\n",
       "      <td>The problem with all this Covid19 testing is i...</td>\n",
       "      <td>True</td>\n",
       "      <td>{'hashtags': [], 'symbols': [], 'user_mentions...</td>\n",
       "      <td>{'iso_language_code': 'en', 'result_type': 're...</td>\n",
       "      <td>&lt;a href=\"http://twitter.com/download/iphone\" r...</td>\n",
       "      <td>NaN</td>\n",
       "      <td>...</td>\n",
       "      <td>NaN</td>\n",
       "      <td>NaN</td>\n",
       "      <td>NaN</td>\n",
       "      <td>NaN</td>\n",
       "      <td>NaN</td>\n",
       "      <td>NaN</td>\n",
       "      <td>NaN</td>\n",
       "      <td>NaN</td>\n",
       "      <td>NaN</td>\n",
       "      <td>NaN</td>\n",
       "    </tr>\n",
       "    <tr>\n",
       "      <th>5</th>\n",
       "      <td>5fb6a9bb06e78d7ce7af20e1</td>\n",
       "      <td>Thu Nov 19 15:23:00 +0000 2020</td>\n",
       "      <td>1329445074355314689</td>\n",
       "      <td>1329445074355314689</td>\n",
       "      <td>#COVID19 #Thanksgiving \\n\\nHow will the hospit...</td>\n",
       "      <td>False</td>\n",
       "      <td>{'hashtags': [{'text': 'COVID19', 'indices': [...</td>\n",
       "      <td>{'iso_language_code': 'en', 'result_type': 're...</td>\n",
       "      <td>&lt;a href=\"http://twitter.com/download/iphone\" r...</td>\n",
       "      <td>NaN</td>\n",
       "      <td>...</td>\n",
       "      <td>NaN</td>\n",
       "      <td>NaN</td>\n",
       "      <td>NaN</td>\n",
       "      <td>NaN</td>\n",
       "      <td>NaN</td>\n",
       "      <td>NaN</td>\n",
       "      <td>NaN</td>\n",
       "      <td>NaN</td>\n",
       "      <td>NaN</td>\n",
       "      <td>NaN</td>\n",
       "    </tr>\n",
       "    <tr>\n",
       "      <th>6</th>\n",
       "      <td>5fb6a9b506e78d7ce7af1efc</td>\n",
       "      <td>Thu Nov 19 16:08:00 +0000 2020</td>\n",
       "      <td>1329456401924710401</td>\n",
       "      <td>1329456401924710401</td>\n",
       "      <td>RT @NASEM_BISO: Our #International Collaborati...</td>\n",
       "      <td>False</td>\n",
       "      <td>{'hashtags': [{'text': 'International', 'indic...</td>\n",
       "      <td>{'iso_language_code': 'en', 'result_type': 're...</td>\n",
       "      <td>&lt;a href=\"https://mobile.twitter.com\" rel=\"nofo...</td>\n",
       "      <td>NaN</td>\n",
       "      <td>...</td>\n",
       "      <td>NaN</td>\n",
       "      <td>NaN</td>\n",
       "      <td>NaN</td>\n",
       "      <td>NaN</td>\n",
       "      <td>NaN</td>\n",
       "      <td>NaN</td>\n",
       "      <td>NaN</td>\n",
       "      <td>NaN</td>\n",
       "      <td>NaN</td>\n",
       "      <td>NaN</td>\n",
       "    </tr>\n",
       "    <tr>\n",
       "      <th>7</th>\n",
       "      <td>5fb6aa5a06e78d7ce7af547f</td>\n",
       "      <td>Wed Nov 18 02:03:41 +0000 2020</td>\n",
       "      <td>1328881533894144001</td>\n",
       "      <td>1328881533894144001</td>\n",
       "      <td>Our #International Collaboration in the #COVID...</td>\n",
       "      <td>True</td>\n",
       "      <td>{'hashtags': [{'text': 'International', 'indic...</td>\n",
       "      <td>{'iso_language_code': 'en', 'result_type': 're...</td>\n",
       "      <td>&lt;a href=\"https://mobile.twitter.com\" rel=\"nofo...</td>\n",
       "      <td>NaN</td>\n",
       "      <td>...</td>\n",
       "      <td>NaN</td>\n",
       "      <td>NaN</td>\n",
       "      <td>NaN</td>\n",
       "      <td>NaN</td>\n",
       "      <td>NaN</td>\n",
       "      <td>NaN</td>\n",
       "      <td>NaN</td>\n",
       "      <td>NaN</td>\n",
       "      <td>NaN</td>\n",
       "      <td>NaN</td>\n",
       "    </tr>\n",
       "    <tr>\n",
       "      <th>8</th>\n",
       "      <td>5fb6aa5706e78d7ce7af53af</td>\n",
       "      <td>Wed Nov 18 02:42:43 +0000 2020</td>\n",
       "      <td>1328891356811497473</td>\n",
       "      <td>1328891356811497473</td>\n",
       "      <td>We continue to demonstrate unprecedented speed...</td>\n",
       "      <td>True</td>\n",
       "      <td>{'hashtags': [{'text': 'COVID19', 'indices': [...</td>\n",
       "      <td>{'iso_language_code': 'en', 'result_type': 're...</td>\n",
       "      <td>&lt;a href=\"https://mobile.twitter.com\" rel=\"nofo...</td>\n",
       "      <td>NaN</td>\n",
       "      <td>...</td>\n",
       "      <td>NaN</td>\n",
       "      <td>NaN</td>\n",
       "      <td>NaN</td>\n",
       "      <td>NaN</td>\n",
       "      <td>NaN</td>\n",
       "      <td>NaN</td>\n",
       "      <td>NaN</td>\n",
       "      <td>NaN</td>\n",
       "      <td>NaN</td>\n",
       "      <td>NaN</td>\n",
       "    </tr>\n",
       "    <tr>\n",
       "      <th>9</th>\n",
       "      <td>5fb6aa2b06e78d7ce7af4505</td>\n",
       "      <td>Wed Nov 18 15:51:24 +0000 2020</td>\n",
       "      <td>1329089833839386624</td>\n",
       "      <td>1329089833839386624</td>\n",
       "      <td>RT @LMLohrey: Trump's Covid19 Advisor Scott At...</td>\n",
       "      <td>False</td>\n",
       "      <td>{'hashtags': [], 'symbols': [], 'user_mentions...</td>\n",
       "      <td>{'iso_language_code': 'en', 'result_type': 're...</td>\n",
       "      <td>&lt;a href=\"http://twitter.com/download/iphone\" r...</td>\n",
       "      <td>NaN</td>\n",
       "      <td>...</td>\n",
       "      <td>NaN</td>\n",
       "      <td>NaN</td>\n",
       "      <td>NaN</td>\n",
       "      <td>NaN</td>\n",
       "      <td>NaN</td>\n",
       "      <td>NaN</td>\n",
       "      <td>NaN</td>\n",
       "      <td>NaN</td>\n",
       "      <td>NaN</td>\n",
       "      <td>NaN</td>\n",
       "    </tr>\n",
       "  </tbody>\n",
       "</table>\n",
       "<p>10 rows × 38 columns</p>\n",
       "</div>"
      ],
      "text/plain": [
       "                        _id                      created_at  \\\n",
       "0  5fb6ae5b832d4822a2c77bea  Thu Nov 19 17:39:04 +0000 2020   \n",
       "1  5fb6aa5806e78d7ce7af53d8  Wed Nov 18 02:35:41 +0000 2020   \n",
       "2  5fb6aa6906e78d7ce7af593c  Tue Nov 17 22:39:08 +0000 2020   \n",
       "3  5fb6aa5a06e78d7ce7af5479  Wed Nov 18 02:04:21 +0000 2020   \n",
       "4  5fb6a9bd06e78d7ce7af2162  Thu Nov 19 15:12:12 +0000 2020   \n",
       "5  5fb6a9bb06e78d7ce7af20e1  Thu Nov 19 15:23:00 +0000 2020   \n",
       "6  5fb6a9b506e78d7ce7af1efc  Thu Nov 19 16:08:00 +0000 2020   \n",
       "7  5fb6aa5a06e78d7ce7af547f  Wed Nov 18 02:03:41 +0000 2020   \n",
       "8  5fb6aa5706e78d7ce7af53af  Wed Nov 18 02:42:43 +0000 2020   \n",
       "9  5fb6aa2b06e78d7ce7af4505  Wed Nov 18 15:51:24 +0000 2020   \n",
       "\n",
       "                    id               id_str  \\\n",
       "0  1329479317449895940  1329479317449895940   \n",
       "1  1328889587356168196  1328889587356168196   \n",
       "2  1328830054038724610  1328830054038724610   \n",
       "3  1328881702396178433  1328881702396178433   \n",
       "4  1329442358329569283  1329442358329569283   \n",
       "5  1329445074355314689  1329445074355314689   \n",
       "6  1329456401924710401  1329456401924710401   \n",
       "7  1328881533894144001  1328881533894144001   \n",
       "8  1328891356811497473  1328891356811497473   \n",
       "9  1329089833839386624  1329089833839386624   \n",
       "\n",
       "                                                text  truncated  \\\n",
       "0  #COVID19 #COVID19AB #Biden #trump #TransitionN...      False   \n",
       "1  Turns out @HarveyWeinstein may have COVID. He ...      False   \n",
       "2  #COVID19 #Denialism? What is that?  I have rea...       True   \n",
       "3  RT @NASEM_BISO: Our #International Collaborati...      False   \n",
       "4  The problem with all this Covid19 testing is i...       True   \n",
       "5  #COVID19 #Thanksgiving \\n\\nHow will the hospit...      False   \n",
       "6  RT @NASEM_BISO: Our #International Collaborati...      False   \n",
       "7  Our #International Collaboration in the #COVID...       True   \n",
       "8  We continue to demonstrate unprecedented speed...       True   \n",
       "9  RT @LMLohrey: Trump's Covid19 Advisor Scott At...      False   \n",
       "\n",
       "                                            entities  \\\n",
       "0  {'hashtags': [{'text': 'COVID19', 'indices': [...   \n",
       "1  {'hashtags': [{'text': 'Covid_19', 'indices': ...   \n",
       "2  {'hashtags': [{'text': 'COVID19', 'indices': [...   \n",
       "3  {'hashtags': [{'text': 'International', 'indic...   \n",
       "4  {'hashtags': [], 'symbols': [], 'user_mentions...   \n",
       "5  {'hashtags': [{'text': 'COVID19', 'indices': [...   \n",
       "6  {'hashtags': [{'text': 'International', 'indic...   \n",
       "7  {'hashtags': [{'text': 'International', 'indic...   \n",
       "8  {'hashtags': [{'text': 'COVID19', 'indices': [...   \n",
       "9  {'hashtags': [], 'symbols': [], 'user_mentions...   \n",
       "\n",
       "                                            metadata  \\\n",
       "0  {'iso_language_code': 'und', 'result_type': 'r...   \n",
       "1  {'iso_language_code': 'en', 'result_type': 're...   \n",
       "2  {'iso_language_code': 'en', 'result_type': 're...   \n",
       "3  {'iso_language_code': 'en', 'result_type': 're...   \n",
       "4  {'iso_language_code': 'en', 'result_type': 're...   \n",
       "5  {'iso_language_code': 'en', 'result_type': 're...   \n",
       "6  {'iso_language_code': 'en', 'result_type': 're...   \n",
       "7  {'iso_language_code': 'en', 'result_type': 're...   \n",
       "8  {'iso_language_code': 'en', 'result_type': 're...   \n",
       "9  {'iso_language_code': 'en', 'result_type': 're...   \n",
       "\n",
       "                                              source  in_reply_to_status_id  \\\n",
       "0  <a href=\"http://twitter.com/download/iphone\" r...           1.329477e+18   \n",
       "1  <a href=\"http://twitter.com/download/iphone\" r...                    NaN   \n",
       "2  <a href=\"http://twitter.com/download/android\" ...                    NaN   \n",
       "3  <a href=\"https://mobile.twitter.com\" rel=\"nofo...                    NaN   \n",
       "4  <a href=\"http://twitter.com/download/iphone\" r...                    NaN   \n",
       "5  <a href=\"http://twitter.com/download/iphone\" r...                    NaN   \n",
       "6  <a href=\"https://mobile.twitter.com\" rel=\"nofo...                    NaN   \n",
       "7  <a href=\"https://mobile.twitter.com\" rel=\"nofo...                    NaN   \n",
       "8  <a href=\"https://mobile.twitter.com\" rel=\"nofo...                    NaN   \n",
       "9  <a href=\"http://twitter.com/download/iphone\" r...                    NaN   \n",
       "\n",
       "   ... quoted_status_id_str  quoted_status quoted_status_permalink  \\\n",
       "0  ...                  NaN            NaN                     NaN   \n",
       "1  ...                  NaN            NaN                     NaN   \n",
       "2  ...                  NaN            NaN                     NaN   \n",
       "3  ...                  NaN            NaN                     NaN   \n",
       "4  ...                  NaN            NaN                     NaN   \n",
       "5  ...                  NaN            NaN                     NaN   \n",
       "6  ...                  NaN            NaN                     NaN   \n",
       "7  ...                  NaN            NaN                     NaN   \n",
       "8  ...                  NaN            NaN                     NaN   \n",
       "9  ...                  NaN            NaN                     NaN   \n",
       "\n",
       "  quote_count reply_count filter_level timestamp_ms extended_entities  \\\n",
       "0         NaN         NaN          NaN          NaN               NaN   \n",
       "1         NaN         NaN          NaN          NaN               NaN   \n",
       "2         NaN         NaN          NaN          NaN               NaN   \n",
       "3         NaN         NaN          NaN          NaN               NaN   \n",
       "4         NaN         NaN          NaN          NaN               NaN   \n",
       "5         NaN         NaN          NaN          NaN               NaN   \n",
       "6         NaN         NaN          NaN          NaN               NaN   \n",
       "7         NaN         NaN          NaN          NaN               NaN   \n",
       "8         NaN         NaN          NaN          NaN               NaN   \n",
       "9         NaN         NaN          NaN          NaN               NaN   \n",
       "\n",
       "  display_text_range  extended_tweet  \n",
       "0                NaN             NaN  \n",
       "1                NaN             NaN  \n",
       "2                NaN             NaN  \n",
       "3                NaN             NaN  \n",
       "4                NaN             NaN  \n",
       "5                NaN             NaN  \n",
       "6                NaN             NaN  \n",
       "7                NaN             NaN  \n",
       "8                NaN             NaN  \n",
       "9                NaN             NaN  \n",
       "\n",
       "[10 rows x 38 columns]"
      ]
     },
     "execution_count": 19,
     "metadata": {},
     "output_type": "execute_result"
    }
   ],
   "source": [
    "tweet_df = pd.DataFrame(list(tweet_cursor ))\n",
    "tweet_df[:10] #display the first 10 tweets"
   ]
  },
  {
   "cell_type": "code",
   "execution_count": 20,
   "metadata": {},
   "outputs": [
    {
     "data": {
      "text/plain": [
       "<matplotlib.axes._subplots.AxesSubplot at 0x7fc4b2c8efd0>"
      ]
     },
     "execution_count": 20,
     "metadata": {},
     "output_type": "execute_result"
    },
    {
     "data": {
      "image/png": "[encoded data removed]",
      "text/plain": [
       "<Figure size 432x288 with 1 Axes>"
      ]
     },
     "metadata": {
      "needs_background": "light"
     },
     "output_type": "display_data"
    }
   ],
   "source": [
    "tweet_df[\"favorite_count\"].hist() # create a histogram show the favorite count"
   ]
  },
  {
   "cell_type": "code",
   "execution_count": null,
   "metadata": {},
   "outputs": [],
   "source": []
  }
 ],
 "metadata": {
  "kernelspec": {
   "display_name": "conda_python3",
   "language": "python",
   "name": "conda_python3"
  },
  "language_info": {
   "codemirror_mode": {
    "name": "ipython",
    "version": 3
   },
   "file_extension": ".py",
   "mimetype": "text/x-python",
   "name": "python",
   "nbconvert_exporter": "python",
   "pygments_lexer": "ipython3",
   "version": "3.6.10"
  }
 },
 "nbformat": 4,
 "nbformat_minor": 2
}
